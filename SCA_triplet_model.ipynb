{
 "cells": [
  {
   "cell_type": "code",
   "execution_count": 1,
   "metadata": {
    "id": "H95GTJYwLcNe"
   },
   "outputs": [],
   "source": [
    "import os.path\n",
    "import numpy as np\n",
    "import h5py\n",
    "#import tensorboard as tensorboard\n",
    "#from tensorboard.plugins import projector\n",
    "import tensorflow as tf\n",
    "from datetime import datetime\n",
    "import pandas as pd\n",
    "import matplotlib.pyplot as plt\n",
    "import tensorflow.keras as tk\n",
    "import tensorflow.keras.layers as tkl\n",
    "from sklearn.model_selection import train_test_split"
   ]
  },
  {
   "cell_type": "code",
   "execution_count": 2,
   "metadata": {
    "colab": {
     "base_uri": "https://localhost:8080/",
     "height": 550
    },
    "id": "AOzJjHrlLQ8C",
    "outputId": "a2d0e2c4-f26c-4b34-fb51-da9c7a1ad3f1"
   },
   "outputs": [
    {
     "name": "stdout",
     "output_type": "stream",
     "text": [
      "<KeysViewHDF5 ['Attack_traces', 'Profiling_traces']>\n"
     ]
    }
   ],
   "source": [
    "root =r\"C:\\Users\\nampo\\Downloads\"\n",
    "\n",
    "in_file = h5py.File(os.path.join(root,\"ascad-variable.h5\"), \"r\")\n",
    "print(in_file.keys())\n",
    "#print(in_file['Attack_traces'].keys())\n",
    "\n",
    "X_profiling = np.array(in_file['Profiling_traces/traces'], dtype=np.float64)\n",
    "# Load profiling labels\n",
    "Y_profiling = np.array(in_file['Profiling_traces/labels'], dtype = np.uint8)\n",
    "\n",
    "# Load attacking traces\n",
    "X_attack = np.array(in_file['Attack_traces/traces'], dtype=np.float64)\n",
    "# Load attacking labels\n",
    "Y_attack = np.array(in_file['Attack_traces/labels'], dtype = np.uint8)"
   ]
  },
  {
   "cell_type": "code",
   "execution_count": 3,
   "metadata": {
    "colab": {
     "base_uri": "https://localhost:8080/",
     "height": 238
    },
    "id": "9LKAyQZBZjDJ",
    "outputId": "8de144b0-2b62-48ef-9fc3-48ab48ddc462"
   },
   "outputs": [
    {
     "name": "stdout",
     "output_type": "stream",
     "text": [
      "(200000, 1400)\n",
      "[[-20. -22. -27. ... -86. -85. -86.]\n",
      " [-20. -24. -28. ... -85. -85. -84.]\n",
      " [-19. -25. -29. ... -85. -86. -85.]\n",
      " ...\n",
      " [-21. -23. -28. ... -85. -87. -85.]\n",
      " [-21. -24. -29. ... -86. -84. -85.]\n",
      " [-21. -21. -26. ... -85. -85. -85.]]\n",
      "(200000,)\n",
      "[145 220   4 ...  49 208 251]\n",
      "0 255\n",
      "-116.0 100.0\n"
     ]
    }
   ],
   "source": [
    "print(X_profiling.shape)\n",
    "print(X_attack)\n",
    "print(Y_profiling.shape)\n",
    "print(Y_attack)\n",
    "print(min(Y_profiling), max(Y_profiling))\n",
    "print(np.min(X_profiling), np.max(X_profiling))"
   ]
  },
  {
   "cell_type": "code",
   "execution_count": 4,
   "metadata": {
    "colab": {
     "base_uri": "https://localhost:8080/",
     "height": 282
    },
    "id": "vTcC3036lmqN",
    "outputId": "8623dfeb-479c-4cec-9508-da4c68288757"
   },
   "outputs": [
    {
     "data": {
      "text/plain": [
       "[<matplotlib.lines.Line2D at 0x205c4c8e2e0>]"
      ]
     },
     "execution_count": 4,
     "metadata": {},
     "output_type": "execute_result"
    },
    {
     "data": {
      "image/png": "[encoded data removed]",
      "text/plain": [
       "<Figure size 432x288 with 1 Axes>"
      ]
     },
     "metadata": {
      "needs_background": "light"
     },
     "output_type": "display_data"
    }
   ],
   "source": [
    "plt.plot(X_profiling[0,:])"
   ]
  },
  {
   "cell_type": "code",
   "execution_count": 5,
   "metadata": {
    "colab": {
     "base_uri": "https://localhost:8080/",
     "height": 236
    },
    "id": "qcqzW5sUbyUW",
    "outputId": "5805984c-0ba8-4d17-80f4-d6efdabbca4c"
   },
   "outputs": [
    {
     "data": {
      "text/html": [
       "<div>\n",
       "<style scoped>\n",
       "    .dataframe tbody tr th:only-of-type {\n",
       "        vertical-align: middle;\n",
       "    }\n",
       "\n",
       "    .dataframe tbody tr th {\n",
       "        vertical-align: top;\n",
       "    }\n",
       "\n",
       "    .dataframe thead th {\n",
       "        text-align: right;\n",
       "    }\n",
       "</style>\n",
       "<table border=\"1\" class=\"dataframe\">\n",
       "  <thead>\n",
       "    <tr style=\"text-align: right;\">\n",
       "      <th></th>\n",
       "      <th>0</th>\n",
       "      <th>1</th>\n",
       "      <th>2</th>\n",
       "      <th>3</th>\n",
       "      <th>4</th>\n",
       "      <th>5</th>\n",
       "      <th>6</th>\n",
       "      <th>7</th>\n",
       "      <th>8</th>\n",
       "      <th>9</th>\n",
       "      <th>...</th>\n",
       "      <th>1391</th>\n",
       "      <th>1392</th>\n",
       "      <th>1393</th>\n",
       "      <th>1394</th>\n",
       "      <th>1395</th>\n",
       "      <th>1396</th>\n",
       "      <th>1397</th>\n",
       "      <th>1398</th>\n",
       "      <th>1399</th>\n",
       "      <th>1400</th>\n",
       "    </tr>\n",
       "  </thead>\n",
       "  <tbody>\n",
       "    <tr>\n",
       "      <th>0</th>\n",
       "      <td>-19.0</td>\n",
       "      <td>-23.0</td>\n",
       "      <td>-27.0</td>\n",
       "      <td>-32.0</td>\n",
       "      <td>-38.0</td>\n",
       "      <td>-41.0</td>\n",
       "      <td>-47.0</td>\n",
       "      <td>-51.0</td>\n",
       "      <td>-52.0</td>\n",
       "      <td>-54.0</td>\n",
       "      <td>...</td>\n",
       "      <td>-72.0</td>\n",
       "      <td>-76.0</td>\n",
       "      <td>-77.0</td>\n",
       "      <td>-81.0</td>\n",
       "      <td>-83.0</td>\n",
       "      <td>-85.0</td>\n",
       "      <td>-86.0</td>\n",
       "      <td>-85.0</td>\n",
       "      <td>-87.0</td>\n",
       "      <td>125</td>\n",
       "    </tr>\n",
       "    <tr>\n",
       "      <th>1</th>\n",
       "      <td>-19.0</td>\n",
       "      <td>-25.0</td>\n",
       "      <td>-30.0</td>\n",
       "      <td>-35.0</td>\n",
       "      <td>-41.0</td>\n",
       "      <td>-45.0</td>\n",
       "      <td>-48.0</td>\n",
       "      <td>-50.0</td>\n",
       "      <td>-53.0</td>\n",
       "      <td>-53.0</td>\n",
       "      <td>...</td>\n",
       "      <td>-74.0</td>\n",
       "      <td>-77.0</td>\n",
       "      <td>-80.0</td>\n",
       "      <td>-84.0</td>\n",
       "      <td>-84.0</td>\n",
       "      <td>-85.0</td>\n",
       "      <td>-85.0</td>\n",
       "      <td>-85.0</td>\n",
       "      <td>-86.0</td>\n",
       "      <td>74</td>\n",
       "    </tr>\n",
       "    <tr>\n",
       "      <th>2</th>\n",
       "      <td>-20.0</td>\n",
       "      <td>-26.0</td>\n",
       "      <td>-28.0</td>\n",
       "      <td>-32.0</td>\n",
       "      <td>-40.0</td>\n",
       "      <td>-43.0</td>\n",
       "      <td>-48.0</td>\n",
       "      <td>-51.0</td>\n",
       "      <td>-53.0</td>\n",
       "      <td>-56.0</td>\n",
       "      <td>...</td>\n",
       "      <td>-72.0</td>\n",
       "      <td>-75.0</td>\n",
       "      <td>-78.0</td>\n",
       "      <td>-82.0</td>\n",
       "      <td>-83.0</td>\n",
       "      <td>-84.0</td>\n",
       "      <td>-85.0</td>\n",
       "      <td>-86.0</td>\n",
       "      <td>-86.0</td>\n",
       "      <td>99</td>\n",
       "    </tr>\n",
       "    <tr>\n",
       "      <th>3</th>\n",
       "      <td>-20.0</td>\n",
       "      <td>-25.0</td>\n",
       "      <td>-27.0</td>\n",
       "      <td>-34.0</td>\n",
       "      <td>-40.0</td>\n",
       "      <td>-44.0</td>\n",
       "      <td>-47.0</td>\n",
       "      <td>-50.0</td>\n",
       "      <td>-52.0</td>\n",
       "      <td>-54.0</td>\n",
       "      <td>...</td>\n",
       "      <td>-73.0</td>\n",
       "      <td>-76.0</td>\n",
       "      <td>-80.0</td>\n",
       "      <td>-83.0</td>\n",
       "      <td>-84.0</td>\n",
       "      <td>-85.0</td>\n",
       "      <td>-84.0</td>\n",
       "      <td>-84.0</td>\n",
       "      <td>-84.0</td>\n",
       "      <td>114</td>\n",
       "    </tr>\n",
       "    <tr>\n",
       "      <th>4</th>\n",
       "      <td>-22.0</td>\n",
       "      <td>-25.0</td>\n",
       "      <td>-27.0</td>\n",
       "      <td>-33.0</td>\n",
       "      <td>-39.0</td>\n",
       "      <td>-44.0</td>\n",
       "      <td>-48.0</td>\n",
       "      <td>-51.0</td>\n",
       "      <td>-52.0</td>\n",
       "      <td>-54.0</td>\n",
       "      <td>...</td>\n",
       "      <td>-72.0</td>\n",
       "      <td>-75.0</td>\n",
       "      <td>-78.0</td>\n",
       "      <td>-82.0</td>\n",
       "      <td>-84.0</td>\n",
       "      <td>-84.0</td>\n",
       "      <td>-85.0</td>\n",
       "      <td>-84.0</td>\n",
       "      <td>-84.0</td>\n",
       "      <td>39</td>\n",
       "    </tr>\n",
       "  </tbody>\n",
       "</table>\n",
       "<p>5 rows × 1401 columns</p>\n",
       "</div>"
      ],
      "text/plain": [
       "   0     1     2     3     4     5     6     7     8     9     ...  1391  \\\n",
       "0 -19.0 -23.0 -27.0 -32.0 -38.0 -41.0 -47.0 -51.0 -52.0 -54.0  ... -72.0   \n",
       "1 -19.0 -25.0 -30.0 -35.0 -41.0 -45.0 -48.0 -50.0 -53.0 -53.0  ... -74.0   \n",
       "2 -20.0 -26.0 -28.0 -32.0 -40.0 -43.0 -48.0 -51.0 -53.0 -56.0  ... -72.0   \n",
       "3 -20.0 -25.0 -27.0 -34.0 -40.0 -44.0 -47.0 -50.0 -52.0 -54.0  ... -73.0   \n",
       "4 -22.0 -25.0 -27.0 -33.0 -39.0 -44.0 -48.0 -51.0 -52.0 -54.0  ... -72.0   \n",
       "\n",
       "   1392  1393  1394  1395  1396  1397  1398  1399  1400  \n",
       "0 -76.0 -77.0 -81.0 -83.0 -85.0 -86.0 -85.0 -87.0   125  \n",
       "1 -77.0 -80.0 -84.0 -84.0 -85.0 -85.0 -85.0 -86.0    74  \n",
       "2 -75.0 -78.0 -82.0 -83.0 -84.0 -85.0 -86.0 -86.0    99  \n",
       "3 -76.0 -80.0 -83.0 -84.0 -85.0 -84.0 -84.0 -84.0   114  \n",
       "4 -75.0 -78.0 -82.0 -84.0 -84.0 -85.0 -84.0 -84.0    39  \n",
       "\n",
       "[5 rows x 1401 columns]"
      ]
     },
     "execution_count": 5,
     "metadata": {},
     "output_type": "execute_result"
    }
   ],
   "source": [
    "feature_profiling = pd.DataFrame(X_profiling)\n",
    "label_profiling = pd.DataFrame(Y_profiling)\n",
    "\n",
    "dataset_profiling = pd.concat([feature_profiling, label_profiling], axis = 1, ignore_index=True)\n",
    "dataset_profiling.head()"
   ]
  },
  {
   "cell_type": "code",
   "execution_count": 6,
   "metadata": {
    "id": "mX70H9YB2NNf"
   },
   "outputs": [],
   "source": [
    "#X_train, X_test, y_train, y_test = train_test_split(X_profiling, Y_profiling, test_size=0.33,shuffle=True, random_state=42)"
   ]
  },
  {
   "cell_type": "code",
   "execution_count": 7,
   "metadata": {
    "id": "ACrETKG606aN"
   },
   "outputs": [
    {
     "name": "stdout",
     "output_type": "stream",
     "text": [
      "(50000, 1400, 1)\n"
     ]
    }
   ],
   "source": [
    "#X_train = X_train[:50000,:]\n",
    "#y_train = y_train[:50000]\n",
    "\n",
    "#X_test = X_test[:10000,:]\n",
    "#y_test = y_test[:10000]\n",
    "\n",
    "#nb_classes = 256\n",
    "#initializer = tk.initializers.GlorotUniform()\n",
    "#y_train = tf.one_hot(y_train,depth = 256)\n",
    "#X_train = X_train[:,:,np.newaxis]\n",
    "#X_test = X_test[:,:,np.newaxis]\n",
    "#print(X_train.shape)\n",
    "#y_test = tf.one_hot(y_test,depth = 256)"
   ]
  },
  {
   "cell_type": "code",
   "execution_count": 9,
   "metadata": {},
   "outputs": [
    {
     "name": "stdout",
     "output_type": "stream",
     "text": [
      "(50000, 1400, 1)\n",
      "Model: \"sequential_1\"\n",
      "_________________________________________________________________\n",
      " Layer (type)                Output Shape              Param #   \n",
      "=================================================================\n",
      " lstm_1 (LSTM)               (None, 1024)              4202496   \n",
      "                                                                 \n",
      " dense_2 (Dense)             (None, 512)               524800    \n",
      "                                                                 \n",
      " dense_3 (Dense)             (None, 256)               131328    \n",
      "                                                                 \n",
      "=================================================================\n",
      "Total params: 4,858,624\n",
      "Trainable params: 4,858,624\n",
      "Non-trainable params: 0\n",
      "_________________________________________________________________\n",
      "None\n",
      "Epoch 1/400\n",
      "29/49 [================>.............] - ETA: 3:28:37 - loss: 5.5765 - accuracy: 0.0043"
     ]
    },
    {
     "ename": "KeyboardInterrupt",
     "evalue": "",
     "output_type": "error",
     "traceback": [
      "\u001b[1;31m---------------------------------------------------------------------------\u001b[0m",
      "\u001b[1;31mKeyboardInterrupt\u001b[0m                         Traceback (most recent call last)",
      "\u001b[1;32m~\\AppData\\Local\\Temp/ipykernel_9480/1500365658.py\u001b[0m in \u001b[0;36m<module>\u001b[1;34m\u001b[0m\n\u001b[0;32m      9\u001b[0m \u001b[0mmodel\u001b[0m\u001b[1;33m.\u001b[0m\u001b[0mbuild\u001b[0m\u001b[1;33m(\u001b[0m\u001b[0minput_shape\u001b[0m\u001b[1;33m)\u001b[0m\u001b[1;33m\u001b[0m\u001b[1;33m\u001b[0m\u001b[0m\n\u001b[0;32m     10\u001b[0m \u001b[0mprint\u001b[0m\u001b[1;33m(\u001b[0m\u001b[0mmodel\u001b[0m\u001b[1;33m.\u001b[0m\u001b[0msummary\u001b[0m\u001b[1;33m(\u001b[0m\u001b[1;33m)\u001b[0m\u001b[1;33m)\u001b[0m\u001b[1;33m\u001b[0m\u001b[1;33m\u001b[0m\u001b[0m\n\u001b[1;32m---> 11\u001b[1;33m \u001b[0mhistory\u001b[0m \u001b[1;33m=\u001b[0m \u001b[0mmodel\u001b[0m\u001b[1;33m.\u001b[0m\u001b[0mfit\u001b[0m\u001b[1;33m(\u001b[0m\u001b[0mX_train\u001b[0m\u001b[1;33m,\u001b[0m \u001b[0my_train\u001b[0m\u001b[1;33m,\u001b[0m \u001b[0mvalidation_data\u001b[0m\u001b[1;33m=\u001b[0m\u001b[1;33m(\u001b[0m\u001b[0mX_test\u001b[0m\u001b[1;33m,\u001b[0m \u001b[0my_test\u001b[0m\u001b[1;33m)\u001b[0m\u001b[1;33m,\u001b[0m \u001b[0mepochs\u001b[0m\u001b[1;33m=\u001b[0m\u001b[1;36m400\u001b[0m\u001b[1;33m,\u001b[0m \u001b[0mbatch_size\u001b[0m\u001b[1;33m=\u001b[0m\u001b[1;36m1024\u001b[0m\u001b[1;33m)\u001b[0m\u001b[1;33m\u001b[0m\u001b[1;33m\u001b[0m\u001b[0m\n\u001b[0m",
      "\u001b[1;32m~\\anaconda3\\lib\\site-packages\\keras\\utils\\traceback_utils.py\u001b[0m in \u001b[0;36merror_handler\u001b[1;34m(*args, **kwargs)\u001b[0m\n\u001b[0;32m     63\u001b[0m         \u001b[0mfiltered_tb\u001b[0m \u001b[1;33m=\u001b[0m \u001b[1;32mNone\u001b[0m\u001b[1;33m\u001b[0m\u001b[1;33m\u001b[0m\u001b[0m\n\u001b[0;32m     64\u001b[0m         \u001b[1;32mtry\u001b[0m\u001b[1;33m:\u001b[0m\u001b[1;33m\u001b[0m\u001b[1;33m\u001b[0m\u001b[0m\n\u001b[1;32m---> 65\u001b[1;33m             \u001b[1;32mreturn\u001b[0m \u001b[0mfn\u001b[0m\u001b[1;33m(\u001b[0m\u001b[1;33m*\u001b[0m\u001b[0margs\u001b[0m\u001b[1;33m,\u001b[0m \u001b[1;33m**\u001b[0m\u001b[0mkwargs\u001b[0m\u001b[1;33m)\u001b[0m\u001b[1;33m\u001b[0m\u001b[1;33m\u001b[0m\u001b[0m\n\u001b[0m\u001b[0;32m     66\u001b[0m         \u001b[1;32mexcept\u001b[0m \u001b[0mException\u001b[0m \u001b[1;32mas\u001b[0m \u001b[0me\u001b[0m\u001b[1;33m:\u001b[0m\u001b[1;33m\u001b[0m\u001b[1;33m\u001b[0m\u001b[0m\n\u001b[0;32m     67\u001b[0m             \u001b[0mfiltered_tb\u001b[0m \u001b[1;33m=\u001b[0m \u001b[0m_process_traceback_frames\u001b[0m\u001b[1;33m(\u001b[0m\u001b[0me\u001b[0m\u001b[1;33m.\u001b[0m\u001b[0m__traceback__\u001b[0m\u001b[1;33m)\u001b[0m\u001b[1;33m\u001b[0m\u001b[1;33m\u001b[0m\u001b[0m\n",
      "\u001b[1;32m~\\anaconda3\\lib\\site-packages\\keras\\engine\\training.py\u001b[0m in \u001b[0;36mfit\u001b[1;34m(self, x, y, batch_size, epochs, verbose, callbacks, validation_split, validation_data, shuffle, class_weight, sample_weight, initial_epoch, steps_per_epoch, validation_steps, validation_batch_size, validation_freq, max_queue_size, workers, use_multiprocessing)\u001b[0m\n\u001b[0;32m   1648\u001b[0m                         ):\n\u001b[0;32m   1649\u001b[0m                             \u001b[0mcallbacks\u001b[0m\u001b[1;33m.\u001b[0m\u001b[0mon_train_batch_begin\u001b[0m\u001b[1;33m(\u001b[0m\u001b[0mstep\u001b[0m\u001b[1;33m)\u001b[0m\u001b[1;33m\u001b[0m\u001b[1;33m\u001b[0m\u001b[0m\n\u001b[1;32m-> 1650\u001b[1;33m                             \u001b[0mtmp_logs\u001b[0m \u001b[1;33m=\u001b[0m \u001b[0mself\u001b[0m\u001b[1;33m.\u001b[0m\u001b[0mtrain_function\u001b[0m\u001b[1;33m(\u001b[0m\u001b[0miterator\u001b[0m\u001b[1;33m)\u001b[0m\u001b[1;33m\u001b[0m\u001b[1;33m\u001b[0m\u001b[0m\n\u001b[0m\u001b[0;32m   1651\u001b[0m                             \u001b[1;32mif\u001b[0m \u001b[0mdata_handler\u001b[0m\u001b[1;33m.\u001b[0m\u001b[0mshould_sync\u001b[0m\u001b[1;33m:\u001b[0m\u001b[1;33m\u001b[0m\u001b[1;33m\u001b[0m\u001b[0m\n\u001b[0;32m   1652\u001b[0m                                 \u001b[0mcontext\u001b[0m\u001b[1;33m.\u001b[0m\u001b[0masync_wait\u001b[0m\u001b[1;33m(\u001b[0m\u001b[1;33m)\u001b[0m\u001b[1;33m\u001b[0m\u001b[1;33m\u001b[0m\u001b[0m\n",
      "\u001b[1;32m~\\anaconda3\\lib\\site-packages\\tensorflow\\python\\util\\traceback_utils.py\u001b[0m in \u001b[0;36merror_handler\u001b[1;34m(*args, **kwargs)\u001b[0m\n\u001b[0;32m    148\u001b[0m     \u001b[0mfiltered_tb\u001b[0m \u001b[1;33m=\u001b[0m \u001b[1;32mNone\u001b[0m\u001b[1;33m\u001b[0m\u001b[1;33m\u001b[0m\u001b[0m\n\u001b[0;32m    149\u001b[0m     \u001b[1;32mtry\u001b[0m\u001b[1;33m:\u001b[0m\u001b[1;33m\u001b[0m\u001b[1;33m\u001b[0m\u001b[0m\n\u001b[1;32m--> 150\u001b[1;33m       \u001b[1;32mreturn\u001b[0m \u001b[0mfn\u001b[0m\u001b[1;33m(\u001b[0m\u001b[1;33m*\u001b[0m\u001b[0margs\u001b[0m\u001b[1;33m,\u001b[0m \u001b[1;33m**\u001b[0m\u001b[0mkwargs\u001b[0m\u001b[1;33m)\u001b[0m\u001b[1;33m\u001b[0m\u001b[1;33m\u001b[0m\u001b[0m\n\u001b[0m\u001b[0;32m    151\u001b[0m     \u001b[1;32mexcept\u001b[0m \u001b[0mException\u001b[0m \u001b[1;32mas\u001b[0m \u001b[0me\u001b[0m\u001b[1;33m:\u001b[0m\u001b[1;33m\u001b[0m\u001b[1;33m\u001b[0m\u001b[0m\n\u001b[0;32m    152\u001b[0m       \u001b[0mfiltered_tb\u001b[0m \u001b[1;33m=\u001b[0m \u001b[0m_process_traceback_frames\u001b[0m\u001b[1;33m(\u001b[0m\u001b[0me\u001b[0m\u001b[1;33m.\u001b[0m\u001b[0m__traceback__\u001b[0m\u001b[1;33m)\u001b[0m\u001b[1;33m\u001b[0m\u001b[1;33m\u001b[0m\u001b[0m\n",
      "\u001b[1;32m~\\anaconda3\\lib\\site-packages\\tensorflow\\python\\eager\\polymorphic_function\\polymorphic_function.py\u001b[0m in \u001b[0;36m__call__\u001b[1;34m(self, *args, **kwds)\u001b[0m\n\u001b[0;32m    878\u001b[0m \u001b[1;33m\u001b[0m\u001b[0m\n\u001b[0;32m    879\u001b[0m       \u001b[1;32mwith\u001b[0m \u001b[0mOptionalXlaContext\u001b[0m\u001b[1;33m(\u001b[0m\u001b[0mself\u001b[0m\u001b[1;33m.\u001b[0m\u001b[0m_jit_compile\u001b[0m\u001b[1;33m)\u001b[0m\u001b[1;33m:\u001b[0m\u001b[1;33m\u001b[0m\u001b[1;33m\u001b[0m\u001b[0m\n\u001b[1;32m--> 880\u001b[1;33m         \u001b[0mresult\u001b[0m \u001b[1;33m=\u001b[0m \u001b[0mself\u001b[0m\u001b[1;33m.\u001b[0m\u001b[0m_call\u001b[0m\u001b[1;33m(\u001b[0m\u001b[1;33m*\u001b[0m\u001b[0margs\u001b[0m\u001b[1;33m,\u001b[0m \u001b[1;33m**\u001b[0m\u001b[0mkwds\u001b[0m\u001b[1;33m)\u001b[0m\u001b[1;33m\u001b[0m\u001b[1;33m\u001b[0m\u001b[0m\n\u001b[0m\u001b[0;32m    881\u001b[0m \u001b[1;33m\u001b[0m\u001b[0m\n\u001b[0;32m    882\u001b[0m       \u001b[0mnew_tracing_count\u001b[0m \u001b[1;33m=\u001b[0m \u001b[0mself\u001b[0m\u001b[1;33m.\u001b[0m\u001b[0mexperimental_get_tracing_count\u001b[0m\u001b[1;33m(\u001b[0m\u001b[1;33m)\u001b[0m\u001b[1;33m\u001b[0m\u001b[1;33m\u001b[0m\u001b[0m\n",
      "\u001b[1;32m~\\anaconda3\\lib\\site-packages\\tensorflow\\python\\eager\\polymorphic_function\\polymorphic_function.py\u001b[0m in \u001b[0;36m_call\u001b[1;34m(self, *args, **kwds)\u001b[0m\n\u001b[0;32m    910\u001b[0m       \u001b[1;31m# In this case we have created variables on the first call, so we run the\u001b[0m\u001b[1;33m\u001b[0m\u001b[1;33m\u001b[0m\u001b[0m\n\u001b[0;32m    911\u001b[0m       \u001b[1;31m# defunned version which is guaranteed to never create variables.\u001b[0m\u001b[1;33m\u001b[0m\u001b[1;33m\u001b[0m\u001b[0m\n\u001b[1;32m--> 912\u001b[1;33m       \u001b[1;32mreturn\u001b[0m \u001b[0mself\u001b[0m\u001b[1;33m.\u001b[0m\u001b[0m_no_variable_creation_fn\u001b[0m\u001b[1;33m(\u001b[0m\u001b[1;33m*\u001b[0m\u001b[0margs\u001b[0m\u001b[1;33m,\u001b[0m \u001b[1;33m**\u001b[0m\u001b[0mkwds\u001b[0m\u001b[1;33m)\u001b[0m  \u001b[1;31m# pylint: disable=not-callable\u001b[0m\u001b[1;33m\u001b[0m\u001b[1;33m\u001b[0m\u001b[0m\n\u001b[0m\u001b[0;32m    913\u001b[0m     \u001b[1;32melif\u001b[0m \u001b[0mself\u001b[0m\u001b[1;33m.\u001b[0m\u001b[0m_variable_creation_fn\u001b[0m \u001b[1;32mis\u001b[0m \u001b[1;32mnot\u001b[0m \u001b[1;32mNone\u001b[0m\u001b[1;33m:\u001b[0m\u001b[1;33m\u001b[0m\u001b[1;33m\u001b[0m\u001b[0m\n\u001b[0;32m    914\u001b[0m       \u001b[1;31m# Release the lock early so that multiple threads can perform the call\u001b[0m\u001b[1;33m\u001b[0m\u001b[1;33m\u001b[0m\u001b[0m\n",
      "\u001b[1;32m~\\anaconda3\\lib\\site-packages\\tensorflow\\python\\eager\\polymorphic_function\\tracing_compiler.py\u001b[0m in \u001b[0;36m__call__\u001b[1;34m(self, *args, **kwargs)\u001b[0m\n\u001b[0;32m    132\u001b[0m       (concrete_function,\n\u001b[0;32m    133\u001b[0m        filtered_flat_args) = self._maybe_define_function(args, kwargs)\n\u001b[1;32m--> 134\u001b[1;33m     return concrete_function._call_flat(\n\u001b[0m\u001b[0;32m    135\u001b[0m         filtered_flat_args, captured_inputs=concrete_function.captured_inputs)  # pylint: disable=protected-access\n\u001b[0;32m    136\u001b[0m \u001b[1;33m\u001b[0m\u001b[0m\n",
      "\u001b[1;32m~\\anaconda3\\lib\\site-packages\\tensorflow\\python\\eager\\polymorphic_function\\monomorphic_function.py\u001b[0m in \u001b[0;36m_call_flat\u001b[1;34m(self, args, captured_inputs, cancellation_manager)\u001b[0m\n\u001b[0;32m   1743\u001b[0m         and executing_eagerly):\n\u001b[0;32m   1744\u001b[0m       \u001b[1;31m# No tape is watching; skip to running the function.\u001b[0m\u001b[1;33m\u001b[0m\u001b[1;33m\u001b[0m\u001b[0m\n\u001b[1;32m-> 1745\u001b[1;33m       return self._build_call_outputs(self._inference_function.call(\n\u001b[0m\u001b[0;32m   1746\u001b[0m           ctx, args, cancellation_manager=cancellation_manager))\n\u001b[0;32m   1747\u001b[0m     forward_backward = self._select_forward_and_backward_functions(\n",
      "\u001b[1;32m~\\anaconda3\\lib\\site-packages\\tensorflow\\python\\eager\\polymorphic_function\\monomorphic_function.py\u001b[0m in \u001b[0;36mcall\u001b[1;34m(self, ctx, args, cancellation_manager)\u001b[0m\n\u001b[0;32m    376\u001b[0m       \u001b[1;32mwith\u001b[0m \u001b[0m_InterpolateFunctionError\u001b[0m\u001b[1;33m(\u001b[0m\u001b[0mself\u001b[0m\u001b[1;33m)\u001b[0m\u001b[1;33m:\u001b[0m\u001b[1;33m\u001b[0m\u001b[1;33m\u001b[0m\u001b[0m\n\u001b[0;32m    377\u001b[0m         \u001b[1;32mif\u001b[0m \u001b[0mcancellation_manager\u001b[0m \u001b[1;32mis\u001b[0m \u001b[1;32mNone\u001b[0m\u001b[1;33m:\u001b[0m\u001b[1;33m\u001b[0m\u001b[1;33m\u001b[0m\u001b[0m\n\u001b[1;32m--> 378\u001b[1;33m           outputs = execute.execute(\n\u001b[0m\u001b[0;32m    379\u001b[0m               \u001b[0mstr\u001b[0m\u001b[1;33m(\u001b[0m\u001b[0mself\u001b[0m\u001b[1;33m.\u001b[0m\u001b[0msignature\u001b[0m\u001b[1;33m.\u001b[0m\u001b[0mname\u001b[0m\u001b[1;33m)\u001b[0m\u001b[1;33m,\u001b[0m\u001b[1;33m\u001b[0m\u001b[1;33m\u001b[0m\u001b[0m\n\u001b[0;32m    380\u001b[0m               \u001b[0mnum_outputs\u001b[0m\u001b[1;33m=\u001b[0m\u001b[0mself\u001b[0m\u001b[1;33m.\u001b[0m\u001b[0m_num_outputs\u001b[0m\u001b[1;33m,\u001b[0m\u001b[1;33m\u001b[0m\u001b[1;33m\u001b[0m\u001b[0m\n",
      "\u001b[1;32m~\\anaconda3\\lib\\site-packages\\tensorflow\\python\\eager\\execute.py\u001b[0m in \u001b[0;36mquick_execute\u001b[1;34m(op_name, num_outputs, inputs, attrs, ctx, name)\u001b[0m\n\u001b[0;32m     50\u001b[0m   \u001b[1;32mtry\u001b[0m\u001b[1;33m:\u001b[0m\u001b[1;33m\u001b[0m\u001b[1;33m\u001b[0m\u001b[0m\n\u001b[0;32m     51\u001b[0m     \u001b[0mctx\u001b[0m\u001b[1;33m.\u001b[0m\u001b[0mensure_initialized\u001b[0m\u001b[1;33m(\u001b[0m\u001b[1;33m)\u001b[0m\u001b[1;33m\u001b[0m\u001b[1;33m\u001b[0m\u001b[0m\n\u001b[1;32m---> 52\u001b[1;33m     tensors = pywrap_tfe.TFE_Py_Execute(ctx._handle, device_name, op_name,\n\u001b[0m\u001b[0;32m     53\u001b[0m                                         inputs, attrs, num_outputs)\n\u001b[0;32m     54\u001b[0m   \u001b[1;32mexcept\u001b[0m \u001b[0mcore\u001b[0m\u001b[1;33m.\u001b[0m\u001b[0m_NotOkStatusException\u001b[0m \u001b[1;32mas\u001b[0m \u001b[0me\u001b[0m\u001b[1;33m:\u001b[0m\u001b[1;33m\u001b[0m\u001b[1;33m\u001b[0m\u001b[0m\n",
      "\u001b[1;31mKeyboardInterrupt\u001b[0m: "
     ]
    }
   ],
   "source": [
    "#print(X_train.shape)\n",
    "#input_shape = (None,1400,1)\n",
    "#model = tk.models.Sequential()\n",
    "#model.add(tkl.LSTM(1024,kernel_initializer=initializer))\n",
    "#model.add(tkl.Dense(512, activation=tk.layers.LeakyReLU(alpha=0.3),kernel_initializer=initializer))\n",
    "#model.add(tkl.Dense(nb_classes, activation='softmax',kernel_initializer=initializer))\n",
    "\n",
    "#model.compile(loss='categorical_crossentropy', optimizer='adam', metrics=['accuracy'])\n",
    "#model.build(input_shape)\n",
    "#print(model.summary())\n",
    "#history = model.fit(X_train, y_train, validation_data=(X_test, y_test), epochs=400, batch_size=1024)"
   ]
  },
  {
   "cell_type": "code",
   "execution_count": null,
   "metadata": {
    "id": "Vstfj9T23CGr"
   },
   "outputs": [],
   "source": [
    "#summarize history for accuracy\n",
    "#plt.plot(history.history['accuracy'])\n",
    "#plt.plot(history.history['val_accuracy'])\n",
    "#plt.title('model accuracy')\n",
    "#plt.ylabel('accuracy')\n",
    "#plt.xlabel('epoch')\n",
    "#plt.legend(['train', 'test'], loc='upper left')\n",
    "#plt.show()\n",
    "#summarize history for loss\n",
    "#plt.plot(history.history['loss'])\n",
    "#plt.plot(history.history['val_loss'])\n",
    "#plt.title('model loss')\n",
    "#plt.ylabel('loss')\n",
    "#plt.xlabel('epoch')\n",
    "#plt.legend(['train', 'test'], loc='upper left')\n",
    "#plt.show()"
   ]
  },
  {
   "cell_type": "code",
   "execution_count": 6,
   "metadata": {
    "id": "hPD-bnBodL7E"
   },
   "outputs": [],
   "source": [
    "def generate_triplet(list_X, list_y,X,y):\n",
    "    triplets = np.empty((1,4200))\n",
    "    labels = []\n",
    "    for i in range(X.shape[0]):\n",
    "        index_pos = np.random.choice(np.where(list_y == y[i])[0])\n",
    "        index_neg = np.random.choice(np.where(list_y != y[i])[0])\n",
    "        result = np.concatenate((X[i,:],list_X[index_pos,:]), axis = -1)\n",
    "        result = np.concatenate((result, list_X[index_neg,:]), axis = -1)\n",
    "        triplets = np.concatenate((triplets, result[np.newaxis,:]), axis = 0)\n",
    "        assert y[i] == list_y[index_pos] and y[i] != list_y[index_neg]\n",
    "        labels.append(np.array([y[i], list_y[index_pos], list_y[index_neg]]))\n",
    "    return triplets, labels"
   ]
  },
  {
   "cell_type": "code",
   "execution_count": 7,
   "metadata": {},
   "outputs": [],
   "source": [
    "#triplets, labels = generate_triplet(X_profiling, Y_profiling)"
   ]
  },
  {
   "cell_type": "code",
   "execution_count": 8,
   "metadata": {},
   "outputs": [],
   "source": [
    "#print(len(triplets))\n",
    "#print(len(labels))"
   ]
  },
  {
   "cell_type": "code",
   "execution_count": 9,
   "metadata": {},
   "outputs": [
    {
     "name": "stdout",
     "output_type": "stream",
     "text": [
      "140000\n",
      "140000\n"
     ]
    }
   ],
   "source": [
    "from sklearn.model_selection import train_test_split\n",
    "\n",
    "X_train, X_val, y_train, y_val = train_test_split(X_profiling, Y_profiling, test_size=0.3, random_state=42, shuffle=True)\n",
    "print(len(X_train))\n",
    "print(len(y_train))\n",
    "\n",
    "batch_size = 1024\n",
    "\n",
    "# Prepare the training dataset.\n",
    "train_dataset = tf.data.Dataset.from_tensor_slices((X_train, y_train))\n",
    "train_dataset = train_dataset.shuffle(buffer_size=1024).batch(batch_size)\n",
    "\n",
    "# Prepare the validation dataset.\n",
    "val_dataset = tf.data.Dataset.from_tensor_slices((X_val, y_val))\n",
    "val_dataset = val_dataset.batch(batch_size)"
   ]
  },
  {
   "cell_type": "code",
   "execution_count": 10,
   "metadata": {},
   "outputs": [
    {
     "name": "stdout",
     "output_type": "stream",
     "text": [
      "1400\n"
     ]
    }
   ],
   "source": [
    "print(len(X_train[0]))"
   ]
  },
  {
   "cell_type": "code",
   "execution_count": 11,
   "metadata": {},
   "outputs": [
    {
     "name": "stdout",
     "output_type": "stream",
     "text": [
      "Model: \"sequential\"\n",
      "_________________________________________________________________\n",
      " Layer (type)                Output Shape              Param #   \n",
      "=================================================================\n",
      " conv1d (Conv1D)             (None, 1400, 64)          1024      \n",
      "                                                                 \n",
      " average_pooling1d (AverageP  (None, 93, 64)           0         \n",
      " ooling1D)                                                       \n",
      "                                                                 \n",
      " conv1d_1 (Conv1D)           (None, 93, 128)           24704     \n",
      "                                                                 \n",
      " average_pooling1d_1 (Averag  (None, 46, 128)          0         \n",
      " ePooling1D)                                                     \n",
      "                                                                 \n",
      " Flatten (Flatten)           (None, 5888)              0         \n",
      "                                                                 \n",
      " dense (Dense)               (None, 512)               3015168   \n",
      "                                                                 \n",
      " dense_1 (Dense)             (None, 32)                16416     \n",
      "                                                                 \n",
      "=================================================================\n",
      "Total params: 3,057,312\n",
      "Trainable params: 3,057,312\n",
      "Non-trainable params: 0\n",
      "_________________________________________________________________\n"
     ]
    }
   ],
   "source": [
    "def Triplet(input_shape, embedding_size):\n",
    "    model = tk.Sequential()\n",
    "    model.add(tkl.Conv1D(input_shape=input_shape,filters=64,kernel_size=15,padding=\"same\", activation=\"selu\"))\n",
    "    model.add(tkl.AveragePooling1D(pool_size=15,strides=15))\n",
    "    model.add(tkl.Conv1D(filters=128, kernel_size=3, padding=\"same\", activation=\"selu\"))\n",
    "    model.add(tkl.AveragePooling1D(pool_size=2,strides=2))\n",
    "    model.add(tkl.Flatten(name='Flatten'))\n",
    "    model.add(tkl.Dense(embedding_size*16))\n",
    "    model.add(tkl.Dense(embedding_size))\n",
    "    return model\n",
    "\n",
    "model = Triplet(input_shape = (1400,1), embedding_size = 32)\n",
    "optimizer = tk.optimizers.Adam(learning_rate = 0.0001, weight_decay = 0.0001)\n",
    "model.summary()"
   ]
  },
  {
   "cell_type": "code",
   "execution_count": 13,
   "metadata": {},
   "outputs": [],
   "source": [
    "def loss(feature, labels, num_classes, alpha_value):\n",
    "    feature_distance = (tf.math.add(\n",
    "            tf.math.reduce_sum(tf.math.square(feature), axis=[1], keepdims=True),\n",
    "            tf.math.reduce_sum(tf.math.square(tf.transpose(feature)), axis=[0], keepdims=True),\n",
    "        )\n",
    "        - 2.0 * tf.matmul(feature, tf.transpose(feature))\n",
    "    )\n",
    "    label_distance = (\n",
    "        tf.math.add(\n",
    "            tf.math.square(labels), \n",
    "            tf.math.square(tf.transpose(labels))\n",
    "        )\n",
    "        - 2.0 * tf.matmul(labels, tf.transpose(labels)))\n",
    "    \n",
    "    result = feature_distance / tf.pow(alpha_value, tf.math.sqrt(label_distance)/num_classes)\n",
    "    result = tf.math.maximum(result, 0.0)    \n",
    "    return result"
   ]
  },
  {
   "cell_type": "code",
   "execution_count": 14,
   "metadata": {},
   "outputs": [],
   "source": [
    "def train(model,X_profiling, Y_profiling, train_dataset, val_dataset, optimizer, epochs = 5):\n",
    "    list_train_loss = []\n",
    "    list_val_loss = []\n",
    "    num_classes = 256\n",
    "    alpha_value = 0.2\n",
    "    for epoch in range(epochs):\n",
    "        print(\"\\nStart of epoch %d\" % (epoch,))\n",
    "\n",
    "        # Iterate over the batches of the dataset.\n",
    "        for step,(x_batch,labels) in enumerate(train_dataset):\n",
    "            triplets, triple_labels = generate_triplet(X_profiling, Y_profiling, x_batch,labels)\n",
    "            triplets = triplets[:,:,np.newaxis]\n",
    "            with tf.GradientTape() as tape:\n",
    "                anchor = model(triplets[:,:1400,:], training=True)\n",
    "                pos = model(triplets[:,1400:2800,:], training=True)\n",
    "                neg = model(triplets[:,2800:,:], training=True)\n",
    "                print(neg)\n",
    "                triplet_loss = loss(triplets[:,:1400,:] - triplets[:,1400:2800,:],anchor - pos, num_classes, alpha_value) \n",
    "                - loss(triplets[:,:1400,:] - triplets[:,2800:,:],anchor - neg, num_classes, alpha_value)\n",
    "            \n",
    "            print(\"loss\",loss_value)\n",
    "            list_train_loss.append(loss_value)\n",
    "            grads = tape.gradient(loss_value, model.trainable_weights)\n",
    "\n",
    "            optimizer.apply_gradients(zip(grads, model.trainable_weights))\n",
    "\n",
    "\n",
    "        # Run a validation loop at the end of each epoch.\n",
    "        #for x_batch_val, y_batch_val in val_dataset:\n",
    "            #a = 0\n",
    "    return list_train_loss, list_val_loss"
   ]
  },
  {
   "cell_type": "code",
   "execution_count": null,
   "metadata": {},
   "outputs": [
    {
     "name": "stdout",
     "output_type": "stream",
     "text": [
      "\n",
      "Start of epoch 0\n",
      "tf.Tensor(\n",
      "[[ 0.          0.          0.         ...  0.          0.\n",
      "   0.        ]\n",
      " [ 1.2301699  -9.826677   -2.507187   ...  6.4817066  15.379827\n",
      "   1.1630467 ]\n",
      " [ 1.7089455  -9.976214   -2.484106   ...  6.4701157  15.394144\n",
      "   0.8530235 ]\n",
      " ...\n",
      " [ 1.9046581  -9.807146   -2.4972074  ...  6.349346   15.449163\n",
      "   0.64412284]\n",
      " [ 1.5059823  -9.950378   -2.6580975  ...  6.625245   15.468502\n",
      "   0.7067424 ]\n",
      " [ 1.6940302  -9.849323   -2.5379326  ...  6.4328113  15.450087\n",
      "   0.7986027 ]], shape=(1025, 32), dtype=float32)\n"
     ]
    }
   ],
   "source": [
    "list_train_loss, list_val_loss = train(model,X_profiling, Y_profiling, train_dataset, val_dataset, optimizer, epochs = 5)"
   ]
  },
  {
   "cell_type": "code",
   "execution_count": null,
   "metadata": {},
   "outputs": [],
   "source": []
  }
 ],
 "metadata": {
  "colab": {
   "provenance": []
  },
  "kernelspec": {
   "display_name": "Python 3 (ipykernel)",
   "language": "python",
   "name": "python3"
  },
  "language_info": {
   "codemirror_mode": {
    "name": "ipython",
    "version": 3
   },
   "file_extension": ".py",
   "mimetype": "text/x-python",
   "name": "python",
   "nbconvert_exporter": "python",
   "pygments_lexer": "ipython3",
   "version": "3.9.7"
  }
 },
 "nbformat": 4,
 "nbformat_minor": 1
}
