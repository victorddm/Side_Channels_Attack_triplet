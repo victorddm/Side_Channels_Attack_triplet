{
 "cells": [
  {
   "cell_type": "code",
   "execution_count": 23,
   "metadata": {
    "id": "H95GTJYwLcNe"
   },
   "outputs": [],
   "source": [
    "import os.path\n",
    "import numpy as np\n",
    "import h5py\n",
    "#import tensorboard as tensorboard\n",
    "#from tensorboard.plugins import projector\n",
    "import tensorflow as tf\n",
    "from datetime import datetime\n",
    "import pandas as pd\n",
    "import matplotlib.pyplot as plt\n",
    "import tensorflow.keras as tk\n",
    "import tensorflow.keras.layers as tkl\n",
    "from sklearn.model_selection import train_test_split"
   ]
  },
  {
   "cell_type": "code",
   "execution_count": 24,
   "metadata": {
    "colab": {
     "base_uri": "https://localhost:8080/",
     "height": 550
    },
    "id": "AOzJjHrlLQ8C",
    "outputId": "a2d0e2c4-f26c-4b34-fb51-da9c7a1ad3f1"
   },
   "outputs": [
    {
     "name": "stdout",
     "output_type": "stream",
     "text": [
      "<KeysViewHDF5 ['Attack_traces', 'Profiling_traces']>\n",
      "<KeysViewHDF5 ['labels', 'metadata', 'traces']>\n"
     ]
    }
   ],
   "source": [
    "root =r\"C:\\Users\\nampo\\Downloads\"\n",
    "vicpath = \"ASCAD_data/ASCAD_databases/\"\n",
    "in_file = h5py.File(os.path.join(root,\"ascad-variable.h5\"), \"r\")\n",
    "print(in_file.keys())\n",
    "print(in_file['Attack_traces'].keys())\n",
    "\n",
    "X_profiling = np.array(in_file['Profiling_traces/traces'], dtype=np.float64)\n",
    "# Load profiling labels\n",
    "Y_profiling = np.array(in_file['Profiling_traces/labels'], dtype = np.uint8)\n",
    "\n",
    "# Load attacking traces\n",
    "X_attack = np.array(in_file['Attack_traces/traces'], dtype=np.float64)\n",
    "# Load attacking labels\n",
    "Y_attack = np.array(in_file['Attack_traces/labels'], dtype = np.uint8)"
   ]
  },
  {
   "cell_type": "code",
   "execution_count": 25,
   "metadata": {
    "colab": {
     "base_uri": "https://localhost:8080/",
     "height": 238
    },
    "id": "9LKAyQZBZjDJ",
    "outputId": "8de144b0-2b62-48ef-9fc3-48ab48ddc462"
   },
   "outputs": [
    {
     "name": "stdout",
     "output_type": "stream",
     "text": [
      "(200000, 1400)\n",
      "[[-20. -22. -27. ... -86. -85. -86.]\n",
      " [-20. -24. -28. ... -85. -85. -84.]\n",
      " [-19. -25. -29. ... -85. -86. -85.]\n",
      " ...\n",
      " [-21. -23. -28. ... -85. -87. -85.]\n",
      " [-21. -24. -29. ... -86. -84. -85.]\n",
      " [-21. -21. -26. ... -85. -85. -85.]]\n",
      "(200000,)\n",
      "[145 220   4 ...  49 208 251]\n",
      "0 255\n",
      "-116.0 100.0\n"
     ]
    }
   ],
   "source": [
    "print(X_profiling.shape)\n",
    "print(X_attack)\n",
    "print(Y_profiling.shape)\n",
    "print(Y_attack)\n",
    "print(min(Y_profiling), max(Y_profiling))\n",
    "print(np.min(X_profiling), np.max(X_profiling))"
   ]
  },
  {
   "cell_type": "code",
   "execution_count": 26,
   "metadata": {
    "colab": {
     "base_uri": "https://localhost:8080/",
     "height": 282
    },
    "id": "vTcC3036lmqN",
    "outputId": "8623dfeb-479c-4cec-9508-da4c68288757"
   },
   "outputs": [
    {
     "data": {
      "text/plain": [
       "[<matplotlib.lines.Line2D at 0x1b0028eda90>]"
      ]
     },
     "execution_count": 26,
     "metadata": {},
     "output_type": "execute_result"
    },
    {
     "data": {
      "image/png": "[encoded data removed]",
      "text/plain": [
       "<Figure size 432x288 with 1 Axes>"
      ]
     },
     "metadata": {
      "needs_background": "light"
     },
     "output_type": "display_data"
    }
   ],
   "source": [
    "plt.plot(X_profiling[0,:])"
   ]
  },
  {
   "cell_type": "code",
   "execution_count": 27,
   "metadata": {
    "colab": {
     "base_uri": "https://localhost:8080/",
     "height": 236
    },
    "id": "qcqzW5sUbyUW",
    "outputId": "5805984c-0ba8-4d17-80f4-d6efdabbca4c"
   },
   "outputs": [
    {
     "data": {
      "text/html": [
       "<div>\n",
       "<style scoped>\n",
       "    .dataframe tbody tr th:only-of-type {\n",
       "        vertical-align: middle;\n",
       "    }\n",
       "\n",
       "    .dataframe tbody tr th {\n",
       "        vertical-align: top;\n",
       "    }\n",
       "\n",
       "    .dataframe thead th {\n",
       "        text-align: right;\n",
       "    }\n",
       "</style>\n",
       "<table border=\"1\" class=\"dataframe\">\n",
       "  <thead>\n",
       "    <tr style=\"text-align: right;\">\n",
       "      <th></th>\n",
       "      <th>0</th>\n",
       "      <th>1</th>\n",
       "      <th>2</th>\n",
       "      <th>3</th>\n",
       "      <th>4</th>\n",
       "      <th>5</th>\n",
       "      <th>6</th>\n",
       "      <th>7</th>\n",
       "      <th>8</th>\n",
       "      <th>9</th>\n",
       "      <th>...</th>\n",
       "      <th>1391</th>\n",
       "      <th>1392</th>\n",
       "      <th>1393</th>\n",
       "      <th>1394</th>\n",
       "      <th>1395</th>\n",
       "      <th>1396</th>\n",
       "      <th>1397</th>\n",
       "      <th>1398</th>\n",
       "      <th>1399</th>\n",
       "      <th>1400</th>\n",
       "    </tr>\n",
       "  </thead>\n",
       "  <tbody>\n",
       "    <tr>\n",
       "      <th>0</th>\n",
       "      <td>-19.0</td>\n",
       "      <td>-23.0</td>\n",
       "      <td>-27.0</td>\n",
       "      <td>-32.0</td>\n",
       "      <td>-38.0</td>\n",
       "      <td>-41.0</td>\n",
       "      <td>-47.0</td>\n",
       "      <td>-51.0</td>\n",
       "      <td>-52.0</td>\n",
       "      <td>-54.0</td>\n",
       "      <td>...</td>\n",
       "      <td>-72.0</td>\n",
       "      <td>-76.0</td>\n",
       "      <td>-77.0</td>\n",
       "      <td>-81.0</td>\n",
       "      <td>-83.0</td>\n",
       "      <td>-85.0</td>\n",
       "      <td>-86.0</td>\n",
       "      <td>-85.0</td>\n",
       "      <td>-87.0</td>\n",
       "      <td>125</td>\n",
       "    </tr>\n",
       "    <tr>\n",
       "      <th>1</th>\n",
       "      <td>-19.0</td>\n",
       "      <td>-25.0</td>\n",
       "      <td>-30.0</td>\n",
       "      <td>-35.0</td>\n",
       "      <td>-41.0</td>\n",
       "      <td>-45.0</td>\n",
       "      <td>-48.0</td>\n",
       "      <td>-50.0</td>\n",
       "      <td>-53.0</td>\n",
       "      <td>-53.0</td>\n",
       "      <td>...</td>\n",
       "      <td>-74.0</td>\n",
       "      <td>-77.0</td>\n",
       "      <td>-80.0</td>\n",
       "      <td>-84.0</td>\n",
       "      <td>-84.0</td>\n",
       "      <td>-85.0</td>\n",
       "      <td>-85.0</td>\n",
       "      <td>-85.0</td>\n",
       "      <td>-86.0</td>\n",
       "      <td>74</td>\n",
       "    </tr>\n",
       "    <tr>\n",
       "      <th>2</th>\n",
       "      <td>-20.0</td>\n",
       "      <td>-26.0</td>\n",
       "      <td>-28.0</td>\n",
       "      <td>-32.0</td>\n",
       "      <td>-40.0</td>\n",
       "      <td>-43.0</td>\n",
       "      <td>-48.0</td>\n",
       "      <td>-51.0</td>\n",
       "      <td>-53.0</td>\n",
       "      <td>-56.0</td>\n",
       "      <td>...</td>\n",
       "      <td>-72.0</td>\n",
       "      <td>-75.0</td>\n",
       "      <td>-78.0</td>\n",
       "      <td>-82.0</td>\n",
       "      <td>-83.0</td>\n",
       "      <td>-84.0</td>\n",
       "      <td>-85.0</td>\n",
       "      <td>-86.0</td>\n",
       "      <td>-86.0</td>\n",
       "      <td>99</td>\n",
       "    </tr>\n",
       "    <tr>\n",
       "      <th>3</th>\n",
       "      <td>-20.0</td>\n",
       "      <td>-25.0</td>\n",
       "      <td>-27.0</td>\n",
       "      <td>-34.0</td>\n",
       "      <td>-40.0</td>\n",
       "      <td>-44.0</td>\n",
       "      <td>-47.0</td>\n",
       "      <td>-50.0</td>\n",
       "      <td>-52.0</td>\n",
       "      <td>-54.0</td>\n",
       "      <td>...</td>\n",
       "      <td>-73.0</td>\n",
       "      <td>-76.0</td>\n",
       "      <td>-80.0</td>\n",
       "      <td>-83.0</td>\n",
       "      <td>-84.0</td>\n",
       "      <td>-85.0</td>\n",
       "      <td>-84.0</td>\n",
       "      <td>-84.0</td>\n",
       "      <td>-84.0</td>\n",
       "      <td>114</td>\n",
       "    </tr>\n",
       "    <tr>\n",
       "      <th>4</th>\n",
       "      <td>-22.0</td>\n",
       "      <td>-25.0</td>\n",
       "      <td>-27.0</td>\n",
       "      <td>-33.0</td>\n",
       "      <td>-39.0</td>\n",
       "      <td>-44.0</td>\n",
       "      <td>-48.0</td>\n",
       "      <td>-51.0</td>\n",
       "      <td>-52.0</td>\n",
       "      <td>-54.0</td>\n",
       "      <td>...</td>\n",
       "      <td>-72.0</td>\n",
       "      <td>-75.0</td>\n",
       "      <td>-78.0</td>\n",
       "      <td>-82.0</td>\n",
       "      <td>-84.0</td>\n",
       "      <td>-84.0</td>\n",
       "      <td>-85.0</td>\n",
       "      <td>-84.0</td>\n",
       "      <td>-84.0</td>\n",
       "      <td>39</td>\n",
       "    </tr>\n",
       "  </tbody>\n",
       "</table>\n",
       "<p>5 rows × 1401 columns</p>\n",
       "</div>"
      ],
      "text/plain": [
       "   0     1     2     3     4     5     6     7     8     9     ...  1391  \\\n",
       "0 -19.0 -23.0 -27.0 -32.0 -38.0 -41.0 -47.0 -51.0 -52.0 -54.0  ... -72.0   \n",
       "1 -19.0 -25.0 -30.0 -35.0 -41.0 -45.0 -48.0 -50.0 -53.0 -53.0  ... -74.0   \n",
       "2 -20.0 -26.0 -28.0 -32.0 -40.0 -43.0 -48.0 -51.0 -53.0 -56.0  ... -72.0   \n",
       "3 -20.0 -25.0 -27.0 -34.0 -40.0 -44.0 -47.0 -50.0 -52.0 -54.0  ... -73.0   \n",
       "4 -22.0 -25.0 -27.0 -33.0 -39.0 -44.0 -48.0 -51.0 -52.0 -54.0  ... -72.0   \n",
       "\n",
       "   1392  1393  1394  1395  1396  1397  1398  1399  1400  \n",
       "0 -76.0 -77.0 -81.0 -83.0 -85.0 -86.0 -85.0 -87.0   125  \n",
       "1 -77.0 -80.0 -84.0 -84.0 -85.0 -85.0 -85.0 -86.0    74  \n",
       "2 -75.0 -78.0 -82.0 -83.0 -84.0 -85.0 -86.0 -86.0    99  \n",
       "3 -76.0 -80.0 -83.0 -84.0 -85.0 -84.0 -84.0 -84.0   114  \n",
       "4 -75.0 -78.0 -82.0 -84.0 -84.0 -85.0 -84.0 -84.0    39  \n",
       "\n",
       "[5 rows x 1401 columns]"
      ]
     },
     "execution_count": 27,
     "metadata": {},
     "output_type": "execute_result"
    }
   ],
   "source": [
    "feature_profiling = pd.DataFrame(X_profiling)\n",
    "label_profiling = pd.DataFrame(Y_profiling)\n",
    "\n",
    "dataset_profiling = pd.concat([feature_profiling, label_profiling], axis = 1, ignore_index=True)\n",
    "dataset_profiling.head()"
   ]
  },
  {
   "cell_type": "code",
   "execution_count": 28,
   "metadata": {
    "id": "mX70H9YB2NNf"
   },
   "outputs": [],
   "source": [
    "#X_train, X_test, y_train, y_test = train_test_split(X_profiling, Y_profiling, test_size=0.33,shuffle=True, random_state=42)"
   ]
  },
  {
   "cell_type": "code",
   "execution_count": 29,
   "metadata": {
    "id": "ACrETKG606aN"
   },
   "outputs": [],
   "source": [
    "#X_train = X_train[:50000,:]\n",
    "#y_train = y_train[:50000]\n",
    "\n",
    "#X_test = X_test[:10000,:]\n",
    "#y_test = y_test[:10000]\n",
    "\n",
    "#nb_classes = 256\n",
    "#initializer = tk.initializers.GlorotUniform()\n",
    "#y_train = tf.one_hot(y_train,depth = 256)\n",
    "#X_train = X_train[:,:,np.newaxis]\n",
    "#X_test = X_test[:,:,np.newaxis]\n",
    "#print(X_train.shape)\n",
    "#y_test = tf.one_hot(y_test,depth = 256)"
   ]
  },
  {
   "cell_type": "code",
   "execution_count": 30,
   "metadata": {},
   "outputs": [],
   "source": [
    "#print(X_train.shape)\n",
    "#input_shape = (None,1400,1)\n",
    "#model = tk.models.Sequential()\n",
    "#model.add(tkl.LSTM(1024,kernel_initializer=initializer))\n",
    "#model.add(tkl.Dense(512, activation=tk.layers.LeakyReLU(alpha=0.3),kernel_initializer=initializer))\n",
    "#model.add(tkl.Dense(nb_classes, activation='softmax',kernel_initializer=initializer))\n",
    "\n",
    "#model.compile(loss='categorical_crossentropy', optimizer='adam', metrics=['accuracy'])\n",
    "#model.build(input_shape)\n",
    "#print(model.summary())\n",
    "#history = model.fit(X_train, y_train, validation_data=(X_test, y_test), epochs=400, batch_size=1024)"
   ]
  },
  {
   "cell_type": "code",
   "execution_count": 31,
   "metadata": {
    "id": "Vstfj9T23CGr"
   },
   "outputs": [],
   "source": [
    "#summarize history for accuracy\n",
    "#plt.plot(history.history['accuracy'])\n",
    "#plt.plot(history.history['val_accuracy'])\n",
    "#plt.title('model accuracy')\n",
    "#plt.ylabel('accuracy')\n",
    "#plt.xlabel('epoch')\n",
    "#plt.legend(['train', 'test'], loc='upper left')\n",
    "#plt.show()\n",
    "#summarize history for loss\n",
    "#plt.plot(history.history['loss'])\n",
    "#plt.plot(history.history['val_loss'])\n",
    "#plt.title('model loss')\n",
    "#plt.ylabel('loss')\n",
    "#plt.xlabel('epoch')\n",
    "#plt.legend(['train', 'test'], loc='upper left')\n",
    "#plt.show()"
   ]
  },
  {
   "cell_type": "code",
   "execution_count": 32,
   "metadata": {
    "id": "hPD-bnBodL7E"
   },
   "outputs": [],
   "source": [
    "def generate_triplet(list_X, list_y,X,y):\n",
    "    triplets = np.zeros((1,4200))\n",
    "    labels = []\n",
    "    for i in range(X.shape[0]):\n",
    "        index_pos = np.random.choice(np.where(list_y == y[i])[0])\n",
    "        index_neg = np.random.choice(np.where(list_y != y[i])[0])\n",
    "        result = np.concatenate((X[i,:],list_X[index_pos,:]), axis = -1)\n",
    "        result = np.concatenate((result, list_X[index_neg,:]), axis = -1)\n",
    "        triplets = np.concatenate((triplets, result[np.newaxis,:]), axis = 0)\n",
    "        assert y[i] == list_y[index_pos] and y[i] != list_y[index_neg]\n",
    "        labels.append(np.array([y[i], list_y[index_pos], list_y[index_neg]]))\n",
    "    triplets = np.delete(triplets, 0,axis = 0)\n",
    "    return triplets, labels"
   ]
  },
  {
   "cell_type": "code",
   "execution_count": 33,
   "metadata": {},
   "outputs": [],
   "source": [
    "#triplets, labels = generate_triplet(X_profiling, Y_profiling)"
   ]
  },
  {
   "cell_type": "code",
   "execution_count": 34,
   "metadata": {},
   "outputs": [],
   "source": [
    "def normalize(X_train, mean = None, std = None):\n",
    "    if mean is None or std is None:\n",
    "        mean = np.mean(X_train)\n",
    "        std = np.std(X_train)\n",
    "    X_train =(X_train - mean)/std\n",
    "    return X_train, mean, std"
   ]
  },
  {
   "cell_type": "code",
   "execution_count": 35,
   "metadata": {},
   "outputs": [
    {
     "name": "stdout",
     "output_type": "stream",
     "text": [
      "140000\n",
      "140000\n",
      "[-21. -25. -28. ... -85. -85. -84.]\n"
     ]
    }
   ],
   "source": [
    "from sklearn.model_selection import train_test_split\n",
    "\n",
    "X_train, X_val, y_train, y_val = train_test_split(X_profiling, Y_profiling, test_size=0.3, random_state=42, shuffle=True)\n",
    "print(len(X_train))\n",
    "print(len(y_train))\n",
    "print(X_train[0])\n",
    "\n",
    "X_train, mean, std = normalize(X_train)\n",
    "X_val, mean, std = normalize(X_val, mean, std)\n",
    "\n",
    "batch_size = 512\n",
    "\n",
    "# Prepare the training dataset.\n",
    "train_dataset = tf.data.Dataset.from_tensor_slices((X_train, y_train))\n",
    "train_dataset = train_dataset.shuffle(buffer_size=1024).batch(batch_size)\n",
    "\n",
    "# Prepare the validation dataset.\n",
    "val_dataset = tf.data.Dataset.from_tensor_slices((X_val, y_val))\n",
    "val_dataset = val_dataset.batch(batch_size)"
   ]
  },
  {
   "cell_type": "code",
   "execution_count": 36,
   "metadata": {},
   "outputs": [
    {
     "name": "stdout",
     "output_type": "stream",
     "text": [
      "[ 1.25609351  1.13812754  1.04965306 ... -0.63136202 -0.63136202\n",
      " -0.60187053]\n",
      "-1.5455982909779373 4.824564109683627\n"
     ]
    }
   ],
   "source": [
    "#After normalization\n",
    "print(X_train[0])\n",
    "print(np.min(X_train), np.max(X_train))"
   ]
  },
  {
   "cell_type": "code",
   "execution_count": 37,
   "metadata": {},
   "outputs": [
    {
     "name": "stdout",
     "output_type": "stream",
     "text": [
      "Model: \"sequential_1\"\n",
      "_________________________________________________________________\n",
      " Layer (type)                Output Shape              Param #   \n",
      "=================================================================\n",
      " conv1d_2 (Conv1D)           (None, 1400, 64)          1024      \n",
      "                                                                 \n",
      " batch_normalization_2 (Batc  (None, 1400, 64)         256       \n",
      " hNormalization)                                                 \n",
      "                                                                 \n",
      " average_pooling1d_2 (Averag  (None, 93, 64)           0         \n",
      " ePooling1D)                                                     \n",
      "                                                                 \n",
      " conv1d_3 (Conv1D)           (None, 93, 128)           24704     \n",
      "                                                                 \n",
      " batch_normalization_3 (Batc  (None, 93, 128)          512       \n",
      " hNormalization)                                                 \n",
      "                                                                 \n",
      " average_pooling1d_3 (Averag  (None, 46, 128)          0         \n",
      " ePooling1D)                                                     \n",
      "                                                                 \n",
      " Flatten (Flatten)           (None, 5888)              0         \n",
      "                                                                 \n",
      " dense_1 (Dense)             (None, 32)                188448    \n",
      "                                                                 \n",
      "=================================================================\n",
      "Total params: 214,944\n",
      "Trainable params: 214,560\n",
      "Non-trainable params: 384\n",
      "_________________________________________________________________\n"
     ]
    }
   ],
   "source": [
    "def Triplet(input_shape, embedding_size):\n",
    "    model = tk.Sequential()\n",
    "    model.add(tkl.Conv1D(input_shape=input_shape,filters=64,kernel_size=15,padding=\"same\"))\n",
    "    model.add(tkl. BatchNormalization())\n",
    "    model.add(tkl.AveragePooling1D(pool_size=15,strides=15))\n",
    "    model.add(tkl.Conv1D(filters=128, kernel_size=3, padding=\"same\"))\n",
    "    model.add(tkl. BatchNormalization())\n",
    "    model.add(tkl.AveragePooling1D(pool_size=2,strides=2))\n",
    "    model.add(tkl.Flatten(name='Flatten'))\n",
    "    model.add(tkl.Dense(embedding_size))\n",
    "    return model\n",
    "\n",
    "model = Triplet(input_shape = (1400,1), embedding_size = 32)\n",
    "optimizer = tk.optimizers.Adam(learning_rate = 0.0001, weight_decay = 0.0001)\n",
    "model.summary()"
   ]
  },
  {
   "cell_type": "code",
   "execution_count": 38,
   "metadata": {},
   "outputs": [],
   "source": [
    "def loss_euclidian(feature):\n",
    "    result = tf.math.sqrt(tf.math.reduce_sum(tf.math.square(feature),axis = 1))\n",
    "    result = tf.math.reduce_sum(result)\n",
    "    return result"
   ]
  },
  {
   "cell_type": "code",
   "execution_count": 39,
   "metadata": {},
   "outputs": [],
   "source": [
    "def loss(feature, labels, num_classes, alpha_value):\n",
    "    #feature = tf.squeeze(feature)\n",
    "    #labels = tf.cast(tf.squeeze(labels), dtype = tf.float64)\n",
    "    #feature_distance = (tf.math.add(\n",
    "    #        tf.math.reduce_sum(tf.math.square(feature), axis=[1], keepdims=True),\n",
    "    #        tf.math.reduce_sum(tf.math.square(tf.transpose(feature)), axis=[0], keepdims=True),\n",
    "    #    )\n",
    "    #    - 2.0 * tf.matmul(feature, tf.transpose(feature))\n",
    "    #)\n",
    "    #label_distance = (\n",
    "    #    tf.math.add(\n",
    "    #        tf.math.reduce_sum(tf.math.square(labels), axis=[1], keepdims=True),\n",
    "    #        tf.math.reduce_sum(tf.math.square(tf.transpose(labels)), axis=[0], keepdims=True),\n",
    "    #    )\n",
    "    #    - 2.0 * tf.matmul(labels, tf.transpose(labels)))\n",
    "\n",
    "    #result = feature_distance / tf.pow(alpha_value, tf.math.sqrt(label_distance)/num_classes)\n",
    "    #result = tf.math.maximum(result, 0.0)\n",
    "    feature_distance = tf.math.sqrt(tf.math.reduce_sum(tf.math.square(feature),axis = 1))\n",
    "    label_distance = tf.math.pow(alpha_value,tf.math.sqrt(tf.math.reduce_sum(tf.math.square(labels),axis = 1))/num_classes)\n",
    "    result = tf.squeeze(feature_distance)/tf.cast(label_distance, tf.float64)\n",
    "    result = tf.math.reduce_sum(result)\n",
    "    return result"
   ]
  },
  {
   "cell_type": "code",
   "execution_count": 40,
   "metadata": {},
   "outputs": [],
   "source": [
    "def train(model,X_profiling, Y_profiling, train_dataset, val_dataset, optimizer, epochs = 5, euclidian = True):\n",
    "    list_train_loss = []\n",
    "    list_val_loss = []\n",
    "    num_classes = 256\n",
    "    alpha_value = 0.2\n",
    "    margin = 0.3\n",
    "    for epoch in range(epochs):\n",
    "        print(\"\\nStart of epoch %d\" % (epoch,))\n",
    "\n",
    "        # Iterate over the batches of the dataset.\n",
    "        for step,(x_batch,labels) in enumerate(train_dataset):\n",
    "            #print(\"x_batch\", x_batch.shape)\n",
    "            triplets, triple_labels = generate_triplet(X_train, y_train, x_batch,labels)\n",
    "            triplets = triplets[:,:,np.newaxis]\n",
    "            with tf.GradientTape() as tape:\n",
    "                #print(\"triplets\",triplets)\n",
    "                anchor = model(triplets[:,:1400,:], training=True)\n",
    "                pos = model(triplets[:,1400:2800,:], training=True)\n",
    "                neg = model(triplets[:,2800:,:], training=True)\n",
    "                #print(\"anchor\",anchor)\n",
    "                if euclidian:\n",
    "                    loss_value = loss_euclidian(anchor - pos) - loss_euclidian(anchor - neg)\n",
    "                else:\n",
    "                    loss_value = loss(triplets[:,:1400,:] - triplets[:,1400:2800,:],anchor - pos, num_classes, alpha_value) \n",
    "                    - loss(triplets[:,:1400,:] - triplets[:,2800:,:],anchor - neg, num_classes, alpha_value)\n",
    "                loss_value = tf.math.maximum(loss_value + margin, 0.0)\n",
    "            list_train_loss.append(loss_value.numpy())\n",
    "            grads = tape.gradient(loss_value, model.trainable_weights)\n",
    "            optimizer.apply_gradients(zip(grads, model.trainable_weights))\n",
    "\n",
    "\n",
    "        # Run a validation loop at the end of each epoch.\n",
    "        #for x_batch_val, y_batch_val in val_dataset:\n",
    "            #a = 0\n",
    "        model.save(os.path.join(root,'my_model.h5'),overwrite = True)\n",
    "    return list_train_loss, list_val_loss"
   ]
  },
  {
   "cell_type": "code",
   "execution_count": 41,
   "metadata": {},
   "outputs": [
    {
     "name": "stdout",
     "output_type": "stream",
     "text": [
      "\n",
      "Start of epoch 0\n",
      "WARNING:tensorflow:Compiled the loaded model, but the compiled metrics have yet to be built. `model.compile_metrics` will be empty until you train or evaluate the model.\n",
      "\n",
      "Start of epoch 1\n",
      "WARNING:tensorflow:Compiled the loaded model, but the compiled metrics have yet to be built. `model.compile_metrics` will be empty until you train or evaluate the model.\n",
      "\n",
      "Start of epoch 2\n",
      "WARNING:tensorflow:Compiled the loaded model, but the compiled metrics have yet to be built. `model.compile_metrics` will be empty until you train or evaluate the model.\n"
     ]
    }
   ],
   "source": [
    "nb_epochs = 3\n",
    "list_train_loss, list_val_loss = train(model,X_profiling, Y_profiling, train_dataset, val_dataset, optimizer, epochs = nb_epochs)"
   ]
  },
  {
   "cell_type": "code",
   "execution_count": 44,
   "metadata": {},
   "outputs": [
    {
     "data": {
      "text/plain": [
       "[<matplotlib.lines.Line2D at 0x1b002a11760>]"
      ]
     },
     "execution_count": 44,
     "metadata": {},
     "output_type": "execute_result"
    },
    {
     "data": {
      "image/png": "[encoded data removed]",
      "text/plain": [
       "<Figure size 432x288 with 1 Axes>"
      ]
     },
     "metadata": {
      "needs_background": "light"
     },
     "output_type": "display_data"
    }
   ],
   "source": [
    "plt.plot(list_train_loss)"
   ]
  },
  {
   "cell_type": "code",
   "execution_count": 43,
   "metadata": {},
   "outputs": [
    {
     "data": {
      "text/plain": [
       "[<matplotlib.lines.Line2D at 0x1b0029c27c0>]"
      ]
     },
     "execution_count": 43,
     "metadata": {},
     "output_type": "execute_result"
    },
    {
     "data": {
      "image/png": "[encoded data removed]",
      "text/plain": [
       "<Figure size 432x288 with 1 Axes>"
      ]
     },
     "metadata": {
      "needs_background": "light"
     },
     "output_type": "display_data"
    }
   ],
   "source": [
    "#Plot loss per epoch\n",
    "loss_per_epoch = []\n",
    "for i in range(nb_epochs):\n",
    "    loss_per_epoch.append(np.mean(list_train_loss[i*len(train_dataset):(i+1)*len(train_dataset)]))\n",
    "plt.plot(range(nb_epochs), loss_per_epoch)"
   ]
  },
  {
   "cell_type": "markdown",
   "metadata": {},
   "source": [
    "GPU matters"
   ]
  },
  {
   "cell_type": "code",
   "execution_count": 26,
   "metadata": {},
   "outputs": [
    {
     "name": "stdout",
     "output_type": "stream",
     "text": [
      "Num GPUs Available:  1\n"
     ]
    }
   ],
   "source": [
    "print(\"Num GPUs Available: \", len(tf.config.list_physical_devices('GPU')))"
   ]
  },
  {
   "cell_type": "code",
   "execution_count": 30,
   "metadata": {},
   "outputs": [
    {
     "ename": "RuntimeError",
     "evalue": "Virtual devices cannot be modified after being initialized",
     "output_type": "error",
     "traceback": [
      "\u001b[0;31m---------------------------------------------------------------------------\u001b[0m",
      "\u001b[0;31mRuntimeError\u001b[0m                              Traceback (most recent call last)",
      "\u001b[0;32m/tmp/ipykernel_19881/1423124298.py\u001b[0m in \u001b[0;36m<module>\u001b[0;34m\u001b[0m\n\u001b[1;32m      1\u001b[0m \u001b[0;31m# Create virtual devices with a memory limit of 1GB\u001b[0m\u001b[0;34m\u001b[0m\u001b[0;34m\u001b[0m\u001b[0m\n\u001b[0;32m----> 2\u001b[0;31m tf.config.experimental.set_virtual_device_configuration(\n\u001b[0m\u001b[1;32m      3\u001b[0m     \u001b[0mphysical_devices\u001b[0m\u001b[0;34m[\u001b[0m\u001b[0;36m0\u001b[0m\u001b[0;34m]\u001b[0m\u001b[0;34m,\u001b[0m\u001b[0;34m\u001b[0m\u001b[0;34m\u001b[0m\u001b[0m\n\u001b[1;32m      4\u001b[0m     [tf.config.experimental.VirtualDeviceConfiguration(memory_limit=1024)])\n\u001b[1;32m      5\u001b[0m \u001b[0;34m\u001b[0m\u001b[0m\n",
      "\u001b[0;32m~/.local/lib/python3.10/site-packages/tensorflow/python/framework/config.py\u001b[0m in \u001b[0;36mset_logical_device_configuration\u001b[0;34m(device, logical_devices)\u001b[0m\n\u001b[1;32m    872\u001b[0m     \u001b[0mRuntimeError\u001b[0m\u001b[0;34m:\u001b[0m \u001b[0mRuntime\u001b[0m \u001b[0;32mis\u001b[0m \u001b[0malready\u001b[0m \u001b[0minitialized\u001b[0m\u001b[0;34m.\u001b[0m\u001b[0;34m\u001b[0m\u001b[0;34m\u001b[0m\u001b[0m\n\u001b[1;32m    873\u001b[0m   \"\"\"\n\u001b[0;32m--> 874\u001b[0;31m   \u001b[0mcontext\u001b[0m\u001b[0;34m.\u001b[0m\u001b[0mcontext\u001b[0m\u001b[0;34m(\u001b[0m\u001b[0;34m)\u001b[0m\u001b[0;34m.\u001b[0m\u001b[0mset_logical_device_configuration\u001b[0m\u001b[0;34m(\u001b[0m\u001b[0mdevice\u001b[0m\u001b[0;34m,\u001b[0m \u001b[0mlogical_devices\u001b[0m\u001b[0;34m)\u001b[0m\u001b[0;34m\u001b[0m\u001b[0;34m\u001b[0m\u001b[0m\n\u001b[0m\u001b[1;32m    875\u001b[0m \u001b[0;34m\u001b[0m\u001b[0m\n\u001b[1;32m    876\u001b[0m \u001b[0;34m\u001b[0m\u001b[0m\n",
      "\u001b[0;32m~/.local/lib/python3.10/site-packages/tensorflow/python/eager/context.py\u001b[0m in \u001b[0;36mset_logical_device_configuration\u001b[0;34m(self, dev, virtual_devices)\u001b[0m\n\u001b[1;32m   1686\u001b[0m \u001b[0;34m\u001b[0m\u001b[0m\n\u001b[1;32m   1687\u001b[0m     \u001b[0;32mif\u001b[0m \u001b[0mself\u001b[0m\u001b[0;34m.\u001b[0m\u001b[0m_context_handle\u001b[0m \u001b[0;32mis\u001b[0m \u001b[0;32mnot\u001b[0m \u001b[0;32mNone\u001b[0m\u001b[0;34m:\u001b[0m\u001b[0;34m\u001b[0m\u001b[0;34m\u001b[0m\u001b[0m\n\u001b[0;32m-> 1688\u001b[0;31m       raise RuntimeError(\n\u001b[0m\u001b[1;32m   1689\u001b[0m           \"Virtual devices cannot be modified after being initialized\")\n\u001b[1;32m   1690\u001b[0m \u001b[0;34m\u001b[0m\u001b[0m\n",
      "\u001b[0;31mRuntimeError\u001b[0m: Virtual devices cannot be modified after being initialized"
     ]
    }
   ],
   "source": [
    "# Create virtual devices with a memory limit of 1GB\n",
    "tf.config.experimental.set_virtual_device_configuration(\n",
    "    physical_devices[0],\n",
    "    [tf.config.experimental.VirtualDeviceConfiguration(memory_limit=1024)])\n",
    "\n",
    "# Enable memory growth for the first virtual device\n",
    "tf.config.experimental.set_memory_growth(\n",
    "    tf.config.list_logical_devices('GPU')[0], True)"
   ]
  },
  {
   "cell_type": "code",
   "execution_count": 28,
   "metadata": {},
   "outputs": [
    {
     "data": {
      "text/plain": [
       "[PhysicalDevice(name='/physical_device:GPU:0', device_type='GPU')]"
      ]
     },
     "execution_count": 28,
     "metadata": {},
     "output_type": "execute_result"
    }
   ],
   "source": [
    "import tensorflow as tf\n",
    "tf.config.list_physical_devices('GPU')"
   ]
  },
  {
   "cell_type": "code",
   "execution_count": 29,
   "metadata": {},
   "outputs": [
    {
     "ename": "ValueError",
     "evalue": "Cannot set memory growth on device when virtual devices configured",
     "output_type": "error",
     "traceback": [
      "\u001b[0;31m---------------------------------------------------------------------------\u001b[0m",
      "\u001b[0;31mValueError\u001b[0m                                Traceback (most recent call last)",
      "\u001b[0;32m/tmp/ipykernel_19881/1166972104.py\u001b[0m in \u001b[0;36m<module>\u001b[0;34m\u001b[0m\n\u001b[1;32m      1\u001b[0m \u001b[0mgpu\u001b[0m \u001b[0;34m=\u001b[0m \u001b[0mtf\u001b[0m\u001b[0;34m.\u001b[0m\u001b[0mconfig\u001b[0m\u001b[0;34m.\u001b[0m\u001b[0mexperimental\u001b[0m\u001b[0;34m.\u001b[0m\u001b[0mlist_physical_devices\u001b[0m\u001b[0;34m(\u001b[0m\u001b[0;34m'GPU'\u001b[0m\u001b[0;34m)\u001b[0m\u001b[0;34m[\u001b[0m\u001b[0;36m0\u001b[0m\u001b[0;34m]\u001b[0m\u001b[0;34m\u001b[0m\u001b[0;34m\u001b[0m\u001b[0m\n\u001b[0;32m----> 2\u001b[0;31m \u001b[0mtf\u001b[0m\u001b[0;34m.\u001b[0m\u001b[0mconfig\u001b[0m\u001b[0;34m.\u001b[0m\u001b[0mexperimental\u001b[0m\u001b[0;34m.\u001b[0m\u001b[0mset_memory_growth\u001b[0m\u001b[0;34m(\u001b[0m\u001b[0mgpu\u001b[0m\u001b[0;34m,\u001b[0m \u001b[0;32mTrue\u001b[0m\u001b[0;34m)\u001b[0m\u001b[0;34m\u001b[0m\u001b[0;34m\u001b[0m\u001b[0m\n\u001b[0m",
      "\u001b[0;32m~/.local/lib/python3.10/site-packages/tensorflow/python/framework/config.py\u001b[0m in \u001b[0;36mset_memory_growth\u001b[0;34m(device, enable)\u001b[0m\n\u001b[1;32m    714\u001b[0m     \u001b[0mRuntimeError\u001b[0m\u001b[0;34m:\u001b[0m \u001b[0mRuntime\u001b[0m \u001b[0;32mis\u001b[0m \u001b[0malready\u001b[0m \u001b[0minitialized\u001b[0m\u001b[0;34m.\u001b[0m\u001b[0;34m\u001b[0m\u001b[0;34m\u001b[0m\u001b[0m\n\u001b[1;32m    715\u001b[0m   \"\"\"\n\u001b[0;32m--> 716\u001b[0;31m   \u001b[0mcontext\u001b[0m\u001b[0;34m.\u001b[0m\u001b[0mcontext\u001b[0m\u001b[0;34m(\u001b[0m\u001b[0;34m)\u001b[0m\u001b[0;34m.\u001b[0m\u001b[0mset_memory_growth\u001b[0m\u001b[0;34m(\u001b[0m\u001b[0mdevice\u001b[0m\u001b[0;34m,\u001b[0m \u001b[0menable\u001b[0m\u001b[0;34m)\u001b[0m\u001b[0;34m\u001b[0m\u001b[0;34m\u001b[0m\u001b[0m\n\u001b[0m\u001b[1;32m    717\u001b[0m \u001b[0;34m\u001b[0m\u001b[0m\n\u001b[1;32m    718\u001b[0m \u001b[0;34m\u001b[0m\u001b[0m\n",
      "\u001b[0;32m~/.local/lib/python3.10/site-packages/tensorflow/python/eager/context.py\u001b[0m in \u001b[0;36mset_memory_growth\u001b[0;34m(self, dev, enable)\u001b[0m\n\u001b[1;32m   1630\u001b[0m \u001b[0;34m\u001b[0m\u001b[0m\n\u001b[1;32m   1631\u001b[0m     \u001b[0;32mif\u001b[0m \u001b[0mdev\u001b[0m \u001b[0;32min\u001b[0m \u001b[0mself\u001b[0m\u001b[0;34m.\u001b[0m\u001b[0m_virtual_device_map\u001b[0m\u001b[0;34m:\u001b[0m\u001b[0;34m\u001b[0m\u001b[0;34m\u001b[0m\u001b[0m\n\u001b[0;32m-> 1632\u001b[0;31m       raise ValueError(\n\u001b[0m\u001b[1;32m   1633\u001b[0m           \"Cannot set memory growth on device when virtual devices configured\")\n\u001b[1;32m   1634\u001b[0m \u001b[0;34m\u001b[0m\u001b[0m\n",
      "\u001b[0;31mValueError\u001b[0m: Cannot set memory growth on device when virtual devices configured"
     ]
    }
   ],
   "source": [
    "gpu = tf.config.experimental.list_physical_devices('GPU')[0]\n",
    "tf.config.experimental.set_memory_growth(gpu, True)"
   ]
  },
  {
   "cell_type": "code",
   "execution_count": 7,
   "metadata": {},
   "outputs": [],
   "source": [
    "gpu = tf.config.experimental.list_physical_devices('GPU')[0]\n",
    "tf.config.experimental.set_virtual_device_configuration(\n",
    "    gpu,\n",
    "    [tf.config.experimental.VirtualDeviceConfiguration(memory_limit=10000)])\n"
   ]
  },
  {
   "cell_type": "code",
   "execution_count": 42,
   "metadata": {},
   "outputs": [
    {
     "name": "stdout",
     "output_type": "stream",
     "text": [
      "\n",
      "Start of epoch 0\n"
     ]
    },
    {
     "name": "stderr",
     "output_type": "stream",
     "text": [
      "2023-03-08 16:47:41.771724: W tensorflow/tsl/framework/cpu_allocator_impl.cc:82] Allocation of 1568000000 exceeds 10% of free system memory.\n"
     ]
    },
    {
     "name": "stdout",
     "output_type": "stream",
     "text": [
      "tf.Tensor(\n",
      "[[       nan        nan        nan ...        nan        nan        nan]\n",
      " [10.570779   9.860428   8.360759  ... 30.477018   2.1819353  3.6045296]\n",
      " [10.621787   9.841146   8.34987   ... 30.478392   2.2107964  3.7526755]\n",
      " ...\n",
      " [10.7351055  9.445516   7.924556  ... 30.121624   1.805315   3.2220488]\n",
      " [10.538928   9.637163   8.361313  ... 30.002348   1.9840698  3.6449728]\n",
      " [10.4002495  9.771699   8.024291  ... 29.767025   2.0494995  3.552575 ]], shape=(1025, 32), dtype=float32)\n"
     ]
    },
    {
     "name": "stderr",
     "output_type": "stream",
     "text": [
      "2023-03-08 16:48:06.189881: W tensorflow/tsl/framework/bfc_allocator.cc:479] Allocator (GPU_0_bfc) ran out of memory trying to allocate 10.96GiB (rounded to 11767000064)requested by op AddV2\n",
      "If the cause is memory fragmentation maybe the environment variable 'TF_GPU_ALLOCATOR=cuda_malloc_async' will improve the situation. \n",
      "Current allocation summary follows.\n",
      "Current allocation summary follows.\n",
      "2023-03-08 16:48:06.189947: I tensorflow/tsl/framework/bfc_allocator.cc:1034] BFCAllocator dump for GPU_0_bfc\n",
      "2023-03-08 16:48:06.189972: I tensorflow/tsl/framework/bfc_allocator.cc:1041] Bin (256): \tTotal Chunks: 21, Chunks in use: 21. 5.2KiB allocated for chunks. 5.2KiB in use in bin. 1.2KiB client-requested in use in bin.\n",
      "2023-03-08 16:48:06.189990: I tensorflow/tsl/framework/bfc_allocator.cc:1041] Bin (512): \tTotal Chunks: 3, Chunks in use: 3. 1.5KiB allocated for chunks. 1.5KiB in use in bin. 1.5KiB client-requested in use in bin.\n",
      "2023-03-08 16:48:06.190005: I tensorflow/tsl/framework/bfc_allocator.cc:1041] Bin (1024): \tTotal Chunks: 3, Chunks in use: 3. 3.2KiB allocated for chunks. 3.2KiB in use in bin. 3.0KiB client-requested in use in bin.\n",
      "2023-03-08 16:48:06.190024: I tensorflow/tsl/framework/bfc_allocator.cc:1041] Bin (2048): \tTotal Chunks: 6, Chunks in use: 6. 18.5KiB allocated for chunks. 18.5KiB in use in bin. 17.2KiB client-requested in use in bin.\n",
      "2023-03-08 16:48:06.190039: I tensorflow/tsl/framework/bfc_allocator.cc:1041] Bin (4096): \tTotal Chunks: 0, Chunks in use: 0. 0B allocated for chunks. 0B in use in bin. 0B client-requested in use in bin.\n",
      "2023-03-08 16:48:06.190056: I tensorflow/tsl/framework/bfc_allocator.cc:1041] Bin (8192): \tTotal Chunks: 2, Chunks in use: 2. 23.5KiB allocated for chunks. 23.5KiB in use in bin. 22.7KiB client-requested in use in bin.\n",
      "2023-03-08 16:48:06.190070: I tensorflow/tsl/framework/bfc_allocator.cc:1041] Bin (16384): \tTotal Chunks: 0, Chunks in use: 0. 0B allocated for chunks. 0B in use in bin. 0B client-requested in use in bin.\n",
      "2023-03-08 16:48:06.190086: I tensorflow/tsl/framework/bfc_allocator.cc:1041] Bin (32768): \tTotal Chunks: 2, Chunks in use: 2. 93.0KiB allocated for chunks. 93.0KiB in use in bin. 92.8KiB client-requested in use in bin.\n",
      "2023-03-08 16:48:06.190104: I tensorflow/tsl/framework/bfc_allocator.cc:1041] Bin (65536): \tTotal Chunks: 9, Chunks in use: 6. 726.5KiB allocated for chunks. 532.8KiB in use in bin. 480.0KiB client-requested in use in bin.\n",
      "2023-03-08 16:48:06.190122: I tensorflow/tsl/framework/bfc_allocator.cc:1041] Bin (131072): \tTotal Chunks: 6, Chunks in use: 6. 778.0KiB allocated for chunks. 778.0KiB in use in bin. 777.3KiB client-requested in use in bin.\n",
      "2023-03-08 16:48:06.190135: I tensorflow/tsl/framework/bfc_allocator.cc:1041] Bin (262144): \tTotal Chunks: 0, Chunks in use: 0. 0B allocated for chunks. 0B in use in bin. 0B client-requested in use in bin.\n",
      "2023-03-08 16:48:06.190149: I tensorflow/tsl/framework/bfc_allocator.cc:1041] Bin (524288): \tTotal Chunks: 1, Chunks in use: 0. 855.8KiB allocated for chunks. 0B in use in bin. 0B client-requested in use in bin.\n",
      "2023-03-08 16:48:06.190163: I tensorflow/tsl/framework/bfc_allocator.cc:1041] Bin (1048576): \tTotal Chunks: 0, Chunks in use: 0. 0B allocated for chunks. 0B in use in bin. 0B client-requested in use in bin.\n",
      "2023-03-08 16:48:06.190179: I tensorflow/tsl/framework/bfc_allocator.cc:1041] Bin (2097152): \tTotal Chunks: 5, Chunks in use: 4. 12.38MiB allocated for chunks. 9.81MiB in use in bin. 8.01MiB client-requested in use in bin.\n",
      "2023-03-08 16:48:06.190197: I tensorflow/tsl/framework/bfc_allocator.cc:1041] Bin (4194304): \tTotal Chunks: 6, Chunks in use: 6. 33.15MiB allocated for chunks. 33.15MiB in use in bin. 32.84MiB client-requested in use in bin.\n",
      "2023-03-08 16:48:06.190214: I tensorflow/tsl/framework/bfc_allocator.cc:1041] Bin (8388608): \tTotal Chunks: 6, Chunks in use: 5. 67.33MiB allocated for chunks. 56.76MiB in use in bin. 56.38MiB client-requested in use in bin.\n",
      "2023-03-08 16:48:06.190232: I tensorflow/tsl/framework/bfc_allocator.cc:1041] Bin (16777216): \tTotal Chunks: 9, Chunks in use: 8. 209.20MiB allocated for chunks. 185.68MiB in use in bin. 185.18MiB client-requested in use in bin.\n",
      "2023-03-08 16:48:06.190250: I tensorflow/tsl/framework/bfc_allocator.cc:1041] Bin (33554432): \tTotal Chunks: 8, Chunks in use: 7. 373.61MiB allocated for chunks. 325.82MiB in use in bin. 325.82MiB client-requested in use in bin.\n",
      "2023-03-08 16:48:06.190267: I tensorflow/tsl/framework/bfc_allocator.cc:1041] Bin (67108864): \tTotal Chunks: 2, Chunks in use: 2. 162.95MiB allocated for chunks. 162.95MiB in use in bin. 126.65MiB client-requested in use in bin.\n",
      "2023-03-08 16:48:06.190288: I tensorflow/tsl/framework/bfc_allocator.cc:1041] Bin (134217728): \tTotal Chunks: 1, Chunks in use: 1. 186.92MiB allocated for chunks. 186.92MiB in use in bin. 186.92MiB client-requested in use in bin.\n",
      "2023-03-08 16:48:06.190304: I tensorflow/tsl/framework/bfc_allocator.cc:1041] Bin (268435456): \tTotal Chunks: 12, Chunks in use: 10. 6.11GiB allocated for chunks. 4.82GiB in use in bin. 4.82GiB client-requested in use in bin.\n",
      "2023-03-08 16:48:06.190321: I tensorflow/tsl/framework/bfc_allocator.cc:1057] Bin for 10.96GiB was 256.00MiB, Chunk State: \n",
      "2023-03-08 16:48:06.190349: I tensorflow/tsl/framework/bfc_allocator.cc:1063]   Size: 350.34MiB | Requested Size: 350.34MiB | in_use: 0 | bin_num: 20, prev:   Size: 350.34MiB | Requested Size: 350.34MiB | in_use: 1 | bin_num: -1, next:   Size: 350.34MiB | Requested Size: 350.34MiB | in_use: 1 | bin_num: -1\n",
      "2023-03-08 16:48:06.190369: I tensorflow/tsl/framework/bfc_allocator.cc:1063]   Size: 966.56MiB | Requested Size: 0B | in_use: 0 | bin_num: 20, prev:   Size: 350.34MiB | Requested Size: 350.34MiB | in_use: 1 | bin_num: -1\n",
      "2023-03-08 16:48:06.190381: I tensorflow/tsl/framework/bfc_allocator.cc:1070] Next region of size 7658668032\n",
      "2023-03-08 16:48:06.190396: I tensorflow/tsl/framework/bfc_allocator.cc:1090] InUse at 7f7c86000000 of size 196000000 next 1\n",
      "2023-03-08 16:48:06.190407: I tensorflow/tsl/framework/bfc_allocator.cc:1090] InUse at 7f7c91aeb900 of size 1280 next 2\n",
      "2023-03-08 16:48:06.190420: I tensorflow/tsl/framework/bfc_allocator.cc:1090] InUse at 7f7c91aebe00 of size 35072 next 3\n",
      "2023-03-08 16:48:06.190431: I tensorflow/tsl/framework/bfc_allocator.cc:1090] InUse at 7f7c91af4700 of size 256 next 4\n",
      "2023-03-08 16:48:06.190441: I tensorflow/tsl/framework/bfc_allocator.cc:1090] InUse at 7f7c91af4800 of size 256 next 5\n",
      "2023-03-08 16:48:06.190452: I tensorflow/tsl/framework/bfc_allocator.cc:1090] InUse at 7f7c91af4900 of size 256 next 6\n",
      "2023-03-08 16:48:06.190463: I tensorflow/tsl/framework/bfc_allocator.cc:1090] InUse at 7f7c91af4a00 of size 84000000 next 7\n",
      "2023-03-08 16:48:06.190474: I tensorflow/tsl/framework/bfc_allocator.cc:1090] InUse at 7f7c96b10700 of size 15104 next 8\n",
      "2023-03-08 16:48:06.190486: I tensorflow/tsl/framework/bfc_allocator.cc:1090] InUse at 7f7c96b14200 of size 256 next 9\n",
      "2023-03-08 16:48:06.190497: I tensorflow/tsl/framework/bfc_allocator.cc:1090] InUse at 7f7c96b14300 of size 256 next 10\n",
      "2023-03-08 16:48:06.190507: I tensorflow/tsl/framework/bfc_allocator.cc:1090] InUse at 7f7c96b14400 of size 256 next 12\n",
      "2023-03-08 16:48:06.190517: I tensorflow/tsl/framework/bfc_allocator.cc:1090] InUse at 7f7c96b14500 of size 256 next 13\n",
      "2023-03-08 16:48:06.190528: I tensorflow/tsl/framework/bfc_allocator.cc:1090] InUse at 7f7c96b14600 of size 256 next 11\n",
      "2023-03-08 16:48:06.190538: I tensorflow/tsl/framework/bfc_allocator.cc:1090] InUse at 7f7c96b14700 of size 256 next 14\n",
      "2023-03-08 16:48:06.190549: I tensorflow/tsl/framework/bfc_allocator.cc:1090] InUse at 7f7c96b14800 of size 512 next 19\n",
      "2023-03-08 16:48:06.190559: I tensorflow/tsl/framework/bfc_allocator.cc:1090] InUse at 7f7c96b14a00 of size 256 next 17\n",
      "2023-03-08 16:48:06.190569: I tensorflow/tsl/framework/bfc_allocator.cc:1090] InUse at 7f7c96b14b00 of size 256 next 18\n",
      "2023-03-08 16:48:06.190580: I tensorflow/tsl/framework/bfc_allocator.cc:1090] InUse at 7f7c96b14c00 of size 2048 next 24\n",
      "2023-03-08 16:48:06.190591: I tensorflow/tsl/framework/bfc_allocator.cc:1090] InUse at 7f7c96b15400 of size 256 next 22\n",
      "2023-03-08 16:48:06.190601: I tensorflow/tsl/framework/bfc_allocator.cc:1090] InUse at 7f7c96b15500 of size 256 next 23\n",
      "2023-03-08 16:48:06.190611: I tensorflow/tsl/framework/bfc_allocator.cc:1090] InUse at 7f7c96b15600 of size 256 next 29\n",
      "2023-03-08 16:48:06.190622: I tensorflow/tsl/framework/bfc_allocator.cc:1090] InUse at 7f7c96b15700 of size 256 next 27\n",
      "2023-03-08 16:48:06.190632: I tensorflow/tsl/framework/bfc_allocator.cc:1090] InUse at 7f7c96b15800 of size 256 next 34\n",
      "2023-03-08 16:48:06.190644: I tensorflow/tsl/framework/bfc_allocator.cc:1090] InUse at 7f7c96b15900 of size 512 next 28\n",
      "2023-03-08 16:48:06.190655: I tensorflow/tsl/framework/bfc_allocator.cc:1090] InUse at 7f7c96b15b00 of size 256 next 30\n",
      "2023-03-08 16:48:06.190666: I tensorflow/tsl/framework/bfc_allocator.cc:1090] InUse at 7f7c96b15c00 of size 256 next 37\n",
      "2023-03-08 16:48:06.190676: I tensorflow/tsl/framework/bfc_allocator.cc:1090] InUse at 7f7c96b15d00 of size 2048 next 15\n",
      "2023-03-08 16:48:06.190687: I tensorflow/tsl/framework/bfc_allocator.cc:1090] InUse at 7f7c96b16500 of size 3840 next 16\n",
      "2023-03-08 16:48:06.190698: I tensorflow/tsl/framework/bfc_allocator.cc:1090] InUse at 7f7c96b17400 of size 256 next 72\n",
      "2023-03-08 16:48:06.190709: I tensorflow/tsl/framework/bfc_allocator.cc:1090] InUse at 7f7c96b17500 of size 1024 next 38\n",
      "2023-03-08 16:48:06.190720: I tensorflow/tsl/framework/bfc_allocator.cc:1090] InUse at 7f7c96b17900 of size 256 next 52\n",
      "2023-03-08 16:48:06.190731: I tensorflow/tsl/framework/bfc_allocator.cc:1090] InUse at 7f7c96b17a00 of size 1024 next 46\n",
      "2023-03-08 16:48:06.190742: I tensorflow/tsl/framework/bfc_allocator.cc:1090] InUse at 7f7c96b17e00 of size 8960 next 33\n",
      "2023-03-08 16:48:06.190753: I tensorflow/tsl/framework/bfc_allocator.cc:1090] InUse at 7f7c96b1a100 of size 119552 next 31\n",
      "2023-03-08 16:48:06.190764: I tensorflow/tsl/framework/bfc_allocator.cc:1090] InUse at 7f7c96b37400 of size 65536 next 21\n",
      "2023-03-08 16:48:06.190775: I tensorflow/tsl/framework/bfc_allocator.cc:1090] InUse at 7f7c96b47400 of size 98304 next 20\n",
      "2023-03-08 16:48:06.190787: I tensorflow/tsl/framework/bfc_allocator.cc:1090] InUse at 7f7c96b5f400 of size 256 next 44\n",
      "2023-03-08 16:48:06.190797: I tensorflow/tsl/framework/bfc_allocator.cc:1090] InUse at 7f7c96b5f500 of size 512 next 43\n",
      "2023-03-08 16:48:06.190808: I tensorflow/tsl/framework/bfc_allocator.cc:1090] InUse at 7f7c96b5f700 of size 3328 next 47\n",
      "2023-03-08 16:48:06.190818: I tensorflow/tsl/framework/bfc_allocator.cc:1090] InUse at 7f7c96b60400 of size 3840 next 48\n",
      "2023-03-08 16:48:06.190829: I tensorflow/tsl/framework/bfc_allocator.cc:1090] InUse at 7f7c96b61300 of size 2099200 next 80\n",
      "2023-03-08 16:48:06.190840: I tensorflow/tsl/framework/bfc_allocator.cc:1090] InUse at 7f7c96d61b00 of size 3987712 next 50\n",
      "2023-03-08 16:48:06.190851: I tensorflow/tsl/framework/bfc_allocator.cc:1090] InUse at 7f7c9712f400 of size 98304 next 49\n",
      "2023-03-08 16:48:06.190862: I tensorflow/tsl/framework/bfc_allocator.cc:1090] InUse at 7f7c97147400 of size 6062080 next 42\n",
      "2023-03-08 16:48:06.190873: I tensorflow/tsl/framework/bfc_allocator.cc:1090] InUse at 7f7c9770f400 of size 11862016 next 26\n",
      "2023-03-08 16:48:06.190884: I tensorflow/tsl/framework/bfc_allocator.cc:1090] InUse at 7f7c9825f400 of size 12058624 next 25\n",
      "2023-03-08 16:48:06.190895: I tensorflow/tsl/framework/bfc_allocator.cc:1090] InUse at 7f7c98ddf400 of size 11480064 next 45\n",
      "2023-03-08 16:48:06.190906: I tensorflow/tsl/framework/bfc_allocator.cc:1090] InUse at 7f7c998d2000 of size 5740032 next 68\n",
      "2023-03-08 16:48:06.190918: I tensorflow/tsl/framework/bfc_allocator.cc:1090] InUse at 7f7c99e4b600 of size 5740032 next 56\n",
      "2023-03-08 16:48:06.190929: I tensorflow/tsl/framework/bfc_allocator.cc:1090] InUse at 7f7c9a3c4c00 of size 5740032 next 51\n",
      "2023-03-08 16:48:06.190939: I tensorflow/tsl/framework/bfc_allocator.cc:1090] InUse at 7f7c9a93e200 of size 60160 next 35\n",
      "2023-03-08 16:48:06.190950: I tensorflow/tsl/framework/bfc_allocator.cc:1090] InUse at 7f7c9a94cd00 of size 3840 next 69\n",
      "2023-03-08 16:48:06.190960: I tensorflow/tsl/framework/bfc_allocator.cc:1090] Free  at 7f7c9a94dc00 of size 67328 next 66\n",
      "2023-03-08 16:48:06.190971: I tensorflow/tsl/framework/bfc_allocator.cc:1090] InUse at 7f7c9a95e300 of size 131328 next 67\n",
      "2023-03-08 16:48:06.190982: I tensorflow/tsl/framework/bfc_allocator.cc:1090] InUse at 7f7c9a97e400 of size 140032 next 39\n",
      "2023-03-08 16:48:06.190993: I tensorflow/tsl/framework/bfc_allocator.cc:1090] Free  at 7f7c9a9a0700 of size 65536 next 74\n",
      "2023-03-08 16:48:06.191004: I tensorflow/tsl/framework/bfc_allocator.cc:1090] InUse at 7f7c9a9b0700 of size 65536 next 32\n",
      "2023-03-08 16:48:06.191014: I tensorflow/tsl/framework/bfc_allocator.cc:1090] Free  at 7f7c9a9c0700 of size 65536 next 71\n",
      "2023-03-08 16:48:06.191025: I tensorflow/tsl/framework/bfc_allocator.cc:1090] InUse at 7f7c9a9d0700 of size 98304 next 70\n",
      "2023-03-08 16:48:06.191035: I tensorflow/tsl/framework/bfc_allocator.cc:1090] InUse at 7f7c9a9e8700 of size 131328 next 81\n",
      "2023-03-08 16:48:06.191045: I tensorflow/tsl/framework/bfc_allocator.cc:1090] InUse at 7f7c9aa08800 of size 131328 next 82\n",
      "2023-03-08 16:48:06.191056: I tensorflow/tsl/framework/bfc_allocator.cc:1090] InUse at 7f7c9aa28900 of size 131328 next 91\n",
      "2023-03-08 16:48:06.191066: I tensorflow/tsl/framework/bfc_allocator.cc:1090] InUse at 7f7c9aa48a00 of size 131328 next 101\n",
      "2023-03-08 16:48:06.191077: I tensorflow/tsl/framework/bfc_allocator.cc:1090] Free  at 7f7c9aa68b00 of size 876288 next 64\n",
      "2023-03-08 16:48:06.191087: I tensorflow/tsl/framework/bfc_allocator.cc:1090] InUse at 7f7c9ab3ea00 of size 2099200 next 65\n",
      "2023-03-08 16:48:06.191098: I tensorflow/tsl/framework/bfc_allocator.cc:1090] Free  at 7f7c9ad3f200 of size 2698752 next 54\n",
      "2023-03-08 16:48:06.191109: I tensorflow/tsl/framework/bfc_allocator.cc:1090] InUse at 7f7c9afd2000 of size 12058624 next 53\n",
      "2023-03-08 16:48:06.191119: I tensorflow/tsl/framework/bfc_allocator.cc:1090] InUse at 7f7c9bb52000 of size 367360000 next 55\n",
      "2023-03-08 16:48:06.191130: I tensorflow/tsl/framework/bfc_allocator.cc:1090] InUse at 7f7cb19a9800 of size 24403200 next 59\n",
      "2023-03-08 16:48:06.191141: I tensorflow/tsl/framework/bfc_allocator.cc:1090] InUse at 7f7cb30ef500 of size 48806400 next 60\n",
      "2023-03-08 16:48:06.191173: I tensorflow/tsl/framework/bfc_allocator.cc:1090] InUse at 7f7cb5f7af00 of size 24140800 next 63\n",
      "2023-03-08 16:48:06.191184: I tensorflow/tsl/framework/bfc_allocator.cc:1090] InUse at 7f7cb7680b00 of size 24665600 next 61\n",
      "2023-03-08 16:48:06.191195: I tensorflow/tsl/framework/bfc_allocator.cc:1090] InUse at 7f7cb8e06900 of size 48806400 next 62\n",
      "2023-03-08 16:48:06.191205: I tensorflow/tsl/framework/bfc_allocator.cc:1090] InUse at 7f7cbbc92300 of size 12058624 next 73\n",
      "2023-03-08 16:48:06.191216: I tensorflow/tsl/framework/bfc_allocator.cc:1090] InUse at 7f7cbc812300 of size 48806400 next 77\n",
      "2023-03-08 16:48:06.191227: I tensorflow/tsl/framework/bfc_allocator.cc:1090] InUse at 7f7cbf69dd00 of size 24140800 next 79\n",
      "2023-03-08 16:48:06.191238: I tensorflow/tsl/framework/bfc_allocator.cc:1090] InUse at 7f7cc0da3900 of size 5740032 next 83\n",
      "2023-03-08 16:48:06.191248: I tensorflow/tsl/framework/bfc_allocator.cc:1090] InUse at 7f7cc131cf00 of size 5740032 next 92\n",
      "2023-03-08 16:48:06.191259: I tensorflow/tsl/framework/bfc_allocator.cc:1090] InUse at 7f7cc1896500 of size 2099200 next 100\n",
      "2023-03-08 16:48:06.191270: I tensorflow/tsl/framework/bfc_allocator.cc:1090] Free  at 7f7cc1a96d00 of size 11086336 next 78\n",
      "2023-03-08 16:48:06.191280: I tensorflow/tsl/framework/bfc_allocator.cc:1090] InUse at 7f7cc2529700 of size 86866176 next 57\n",
      "2023-03-08 16:48:06.191292: I tensorflow/tsl/framework/bfc_allocator.cc:1090] InUse at 7f7cc7801000 of size 367360000 next 58\n",
      "2023-03-08 16:48:06.191303: I tensorflow/tsl/framework/bfc_allocator.cc:1090] InUse at 7f7cdd658800 of size 1568000000 next 40\n",
      "2023-03-08 16:48:06.191314: I tensorflow/tsl/framework/bfc_allocator.cc:1090] InUse at 7f7d3adb5000 of size 672000000 next 41\n",
      "2023-03-08 16:48:06.191325: I tensorflow/tsl/framework/bfc_allocator.cc:1090] InUse at 7f7d62e93800 of size 367360000 next 75\n",
      "2023-03-08 16:48:06.191336: I tensorflow/tsl/framework/bfc_allocator.cc:1090] InUse at 7f7d78ceb000 of size 367360000 next 76\n",
      "2023-03-08 16:48:06.191346: I tensorflow/tsl/framework/bfc_allocator.cc:1090] InUse at 7f7d8eb42800 of size 367360000 next 36\n",
      "2023-03-08 16:48:06.191357: I tensorflow/tsl/framework/bfc_allocator.cc:1090] InUse at 7f7da499a000 of size 24403200 next 86\n",
      "2023-03-08 16:48:06.191369: I tensorflow/tsl/framework/bfc_allocator.cc:1090] InUse at 7f7da60dfd00 of size 48806400 next 87\n",
      "2023-03-08 16:48:06.191380: I tensorflow/tsl/framework/bfc_allocator.cc:1090] InUse at 7f7da8f6b700 of size 24140800 next 90\n",
      "2023-03-08 16:48:06.191391: I tensorflow/tsl/framework/bfc_allocator.cc:1090] InUse at 7f7daa671300 of size 24665600 next 88\n",
      "2023-03-08 16:48:06.191401: I tensorflow/tsl/framework/bfc_allocator.cc:1090] InUse at 7f7dabdf7100 of size 48806400 next 89\n",
      "2023-03-08 16:48:06.191412: I tensorflow/tsl/framework/bfc_allocator.cc:1090] InUse at 7f7daec82b00 of size 48806400 next 96\n",
      "2023-03-08 16:48:06.191423: I tensorflow/tsl/framework/bfc_allocator.cc:1090] InUse at 7f7db1b0e500 of size 24140800 next 99\n",
      "2023-03-08 16:48:06.191433: I tensorflow/tsl/framework/bfc_allocator.cc:1090] Free  at 7f7db3214100 of size 24665600 next 97\n",
      "2023-03-08 16:48:06.191444: I tensorflow/tsl/framework/bfc_allocator.cc:1090] InUse at 7f7db4999f00 of size 48806400 next 98\n",
      "2023-03-08 16:48:06.191454: I tensorflow/tsl/framework/bfc_allocator.cc:1090] Free  at 7f7db7825900 of size 50118400 next 84\n",
      "2023-03-08 16:48:06.191465: I tensorflow/tsl/framework/bfc_allocator.cc:1090] InUse at 7f7dba7f1800 of size 367360000 next 85\n",
      "2023-03-08 16:48:06.191476: I tensorflow/tsl/framework/bfc_allocator.cc:1090] InUse at 7f7dd0649000 of size 367360000 next 93\n",
      "2023-03-08 16:48:06.191486: I tensorflow/tsl/framework/bfc_allocator.cc:1090] Free  at 7f7de64a0800 of size 367360000 next 94\n",
      "2023-03-08 16:48:06.191497: I tensorflow/tsl/framework/bfc_allocator.cc:1090] InUse at 7f7dfc2f8000 of size 367360000 next 95\n",
      "2023-03-08 16:48:06.191508: I tensorflow/tsl/framework/bfc_allocator.cc:1090] Free  at 7f7e1214f800 of size 1013516288 next 18446744073709551615\n",
      "2023-03-08 16:48:06.191518: I tensorflow/tsl/framework/bfc_allocator.cc:1095]      Summary of in-use Chunks by size: \n",
      "2023-03-08 16:48:06.191533: I tensorflow/tsl/framework/bfc_allocator.cc:1098] 21 Chunks of size 256 totalling 5.2KiB\n",
      "2023-03-08 16:48:06.191547: I tensorflow/tsl/framework/bfc_allocator.cc:1098] 3 Chunks of size 512 totalling 1.5KiB\n",
      "2023-03-08 16:48:06.191561: I tensorflow/tsl/framework/bfc_allocator.cc:1098] 2 Chunks of size 1024 totalling 2.0KiB\n",
      "2023-03-08 16:48:06.191574: I tensorflow/tsl/framework/bfc_allocator.cc:1098] 1 Chunks of size 1280 totalling 1.2KiB\n",
      "2023-03-08 16:48:06.191587: I tensorflow/tsl/framework/bfc_allocator.cc:1098] 2 Chunks of size 2048 totalling 4.0KiB\n",
      "2023-03-08 16:48:06.191600: I tensorflow/tsl/framework/bfc_allocator.cc:1098] 1 Chunks of size 3328 totalling 3.2KiB\n",
      "2023-03-08 16:48:06.191614: I tensorflow/tsl/framework/bfc_allocator.cc:1098] 3 Chunks of size 3840 totalling 11.2KiB\n",
      "2023-03-08 16:48:06.191627: I tensorflow/tsl/framework/bfc_allocator.cc:1098] 1 Chunks of size 8960 totalling 8.8KiB\n",
      "2023-03-08 16:48:06.191641: I tensorflow/tsl/framework/bfc_allocator.cc:1098] 1 Chunks of size 15104 totalling 14.8KiB\n",
      "2023-03-08 16:48:06.191655: I tensorflow/tsl/framework/bfc_allocator.cc:1098] 1 Chunks of size 35072 totalling 34.2KiB\n",
      "2023-03-08 16:48:06.191668: I tensorflow/tsl/framework/bfc_allocator.cc:1098] 1 Chunks of size 60160 totalling 58.8KiB\n",
      "2023-03-08 16:48:06.191682: I tensorflow/tsl/framework/bfc_allocator.cc:1098] 2 Chunks of size 65536 totalling 128.0KiB\n",
      "2023-03-08 16:48:06.191696: I tensorflow/tsl/framework/bfc_allocator.cc:1098] 3 Chunks of size 98304 totalling 288.0KiB\n",
      "2023-03-08 16:48:06.191711: I tensorflow/tsl/framework/bfc_allocator.cc:1098] 1 Chunks of size 119552 totalling 116.8KiB\n",
      "2023-03-08 16:48:06.191725: I tensorflow/tsl/framework/bfc_allocator.cc:1098] 5 Chunks of size 131328 totalling 641.2KiB\n",
      "2023-03-08 16:48:06.191739: I tensorflow/tsl/framework/bfc_allocator.cc:1098] 1 Chunks of size 140032 totalling 136.8KiB\n",
      "2023-03-08 16:48:06.191752: I tensorflow/tsl/framework/bfc_allocator.cc:1098] 3 Chunks of size 2099200 totalling 6.01MiB\n",
      "2023-03-08 16:48:06.191765: I tensorflow/tsl/framework/bfc_allocator.cc:1098] 1 Chunks of size 3987712 totalling 3.80MiB\n",
      "2023-03-08 16:48:06.191779: I tensorflow/tsl/framework/bfc_allocator.cc:1098] 5 Chunks of size 5740032 totalling 27.37MiB\n",
      "2023-03-08 16:48:06.191792: I tensorflow/tsl/framework/bfc_allocator.cc:1098] 1 Chunks of size 6062080 totalling 5.78MiB\n",
      "2023-03-08 16:48:06.191806: I tensorflow/tsl/framework/bfc_allocator.cc:1098] 1 Chunks of size 11480064 totalling 10.95MiB\n",
      "2023-03-08 16:48:06.191820: I tensorflow/tsl/framework/bfc_allocator.cc:1098] 1 Chunks of size 11862016 totalling 11.31MiB\n",
      "2023-03-08 16:48:06.191834: I tensorflow/tsl/framework/bfc_allocator.cc:1098] 3 Chunks of size 12058624 totalling 34.50MiB\n",
      "2023-03-08 16:48:06.191848: I tensorflow/tsl/framework/bfc_allocator.cc:1098] 4 Chunks of size 24140800 totalling 92.09MiB\n",
      "2023-03-08 16:48:06.191862: I tensorflow/tsl/framework/bfc_allocator.cc:1098] 2 Chunks of size 24403200 totalling 46.54MiB\n",
      "2023-03-08 16:48:06.191876: I tensorflow/tsl/framework/bfc_allocator.cc:1098] 2 Chunks of size 24665600 totalling 47.05MiB\n",
      "2023-03-08 16:48:06.191890: I tensorflow/tsl/framework/bfc_allocator.cc:1098] 7 Chunks of size 48806400 totalling 325.82MiB\n",
      "2023-03-08 16:48:06.191903: I tensorflow/tsl/framework/bfc_allocator.cc:1098] 1 Chunks of size 84000000 totalling 80.11MiB\n",
      "2023-03-08 16:48:06.191917: I tensorflow/tsl/framework/bfc_allocator.cc:1098] 1 Chunks of size 86866176 totalling 82.84MiB\n",
      "2023-03-08 16:48:06.191931: I tensorflow/tsl/framework/bfc_allocator.cc:1098] 1 Chunks of size 196000000 totalling 186.92MiB\n",
      "2023-03-08 16:48:06.191945: I tensorflow/tsl/framework/bfc_allocator.cc:1098] 8 Chunks of size 367360000 totalling 2.74GiB\n",
      "2023-03-08 16:48:06.191958: I tensorflow/tsl/framework/bfc_allocator.cc:1098] 1 Chunks of size 672000000 totalling 640.87MiB\n",
      "2023-03-08 16:48:06.191972: I tensorflow/tsl/framework/bfc_allocator.cc:1098] 1 Chunks of size 1568000000 totalling 1.46GiB\n",
      "2023-03-08 16:48:06.191985: I tensorflow/tsl/framework/bfc_allocator.cc:1102] Sum Total of in-use chunks: 5.76GiB\n",
      "2023-03-08 16:48:06.191997: I tensorflow/tsl/framework/bfc_allocator.cc:1104] total_region_allocated_bytes_: 7658668032 memory_limit_: 7658668032 available bytes: 0 curr_region_allocation_bytes_: 15317336064\n",
      "2023-03-08 16:48:06.192014: I tensorflow/tsl/framework/bfc_allocator.cc:1110] Stats: \n",
      "Limit:                      7658668032\n",
      "InUse:                      6188147968\n",
      "MaxInUse:                   6406717952\n",
      "NumAllocs:                       42226\n",
      "MaxAllocSize:               1568000000\n",
      "Reserved:                            0\n",
      "PeakReserved:                        0\n",
      "LargestFreeBlock:                    0\n",
      "\n",
      "2023-03-08 16:48:06.192041: W tensorflow/tsl/framework/bfc_allocator.cc:492] ******************************************************************************___******_____________\n",
      "2023-03-08 16:48:06.217788: W tensorflow/core/framework/op_kernel.cc:1818] RESOURCE_EXHAUSTED: failed to allocate memory\n"
     ]
    },
    {
     "ename": "ResourceExhaustedError",
     "evalue": "{{function_node __wrapped__AddV2_device_/job:localhost/replica:0/task:0/device:GPU:0}} failed to allocate memory [Op:AddV2]",
     "output_type": "error",
     "traceback": [
      "\u001b[0;31m---------------------------------------------------------------------------\u001b[0m",
      "\u001b[0;31mResourceExhaustedError\u001b[0m                    Traceback (most recent call last)",
      "\u001b[0;32m/tmp/ipykernel_18552/465695991.py\u001b[0m in \u001b[0;36m<module>\u001b[0;34m\u001b[0m\n\u001b[0;32m----> 1\u001b[0;31m \u001b[0mlist_train_loss\u001b[0m\u001b[0;34m,\u001b[0m \u001b[0mlist_val_loss\u001b[0m \u001b[0;34m=\u001b[0m \u001b[0mtrain\u001b[0m\u001b[0;34m(\u001b[0m\u001b[0mmodel\u001b[0m\u001b[0;34m,\u001b[0m\u001b[0mX_profiling\u001b[0m\u001b[0;34m,\u001b[0m \u001b[0mY_profiling\u001b[0m\u001b[0;34m,\u001b[0m \u001b[0mtrain_dataset\u001b[0m\u001b[0;34m,\u001b[0m \u001b[0mval_dataset\u001b[0m\u001b[0;34m,\u001b[0m \u001b[0moptimizer\u001b[0m\u001b[0;34m,\u001b[0m \u001b[0mepochs\u001b[0m \u001b[0;34m=\u001b[0m \u001b[0;36m5\u001b[0m\u001b[0;34m)\u001b[0m\u001b[0;34m\u001b[0m\u001b[0;34m\u001b[0m\u001b[0m\n\u001b[0m",
      "\u001b[0;32m/tmp/ipykernel_18552/562448055.py\u001b[0m in \u001b[0;36mtrain\u001b[0;34m(model, X_profiling, Y_profiling, train_dataset, val_dataset, optimizer, epochs)\u001b[0m\n\u001b[1;32m     16\u001b[0m                 \u001b[0mneg\u001b[0m \u001b[0;34m=\u001b[0m \u001b[0mmodel\u001b[0m\u001b[0;34m(\u001b[0m\u001b[0mtriplets\u001b[0m\u001b[0;34m[\u001b[0m\u001b[0;34m:\u001b[0m\u001b[0;34m,\u001b[0m\u001b[0;36m2800\u001b[0m\u001b[0;34m:\u001b[0m\u001b[0;34m,\u001b[0m\u001b[0;34m:\u001b[0m\u001b[0;34m]\u001b[0m\u001b[0;34m,\u001b[0m \u001b[0mtraining\u001b[0m\u001b[0;34m=\u001b[0m\u001b[0;32mTrue\u001b[0m\u001b[0;34m)\u001b[0m\u001b[0;34m\u001b[0m\u001b[0;34m\u001b[0m\u001b[0m\n\u001b[1;32m     17\u001b[0m                 \u001b[0mprint\u001b[0m\u001b[0;34m(\u001b[0m\u001b[0mneg\u001b[0m\u001b[0;34m)\u001b[0m\u001b[0;34m\u001b[0m\u001b[0;34m\u001b[0m\u001b[0m\n\u001b[0;32m---> 18\u001b[0;31m                 \u001b[0mtriplet_loss\u001b[0m \u001b[0;34m=\u001b[0m \u001b[0mloss\u001b[0m\u001b[0;34m(\u001b[0m\u001b[0mtriplets\u001b[0m\u001b[0;34m[\u001b[0m\u001b[0;34m:\u001b[0m\u001b[0;34m,\u001b[0m\u001b[0;34m:\u001b[0m\u001b[0;36m1400\u001b[0m\u001b[0;34m,\u001b[0m\u001b[0;34m:\u001b[0m\u001b[0;34m]\u001b[0m \u001b[0;34m-\u001b[0m \u001b[0mtriplets\u001b[0m\u001b[0;34m[\u001b[0m\u001b[0;34m:\u001b[0m\u001b[0;34m,\u001b[0m\u001b[0;36m1400\u001b[0m\u001b[0;34m:\u001b[0m\u001b[0;36m2800\u001b[0m\u001b[0;34m,\u001b[0m\u001b[0;34m:\u001b[0m\u001b[0;34m]\u001b[0m\u001b[0;34m,\u001b[0m\u001b[0manchor\u001b[0m \u001b[0;34m-\u001b[0m \u001b[0mpos\u001b[0m\u001b[0;34m,\u001b[0m \u001b[0mnum_classes\u001b[0m\u001b[0;34m,\u001b[0m \u001b[0malpha_value\u001b[0m\u001b[0;34m)\u001b[0m\u001b[0;34m\u001b[0m\u001b[0;34m\u001b[0m\u001b[0m\n\u001b[0m\u001b[1;32m     19\u001b[0m                 \u001b[0;34m-\u001b[0m \u001b[0mloss\u001b[0m\u001b[0;34m(\u001b[0m\u001b[0mtriplets\u001b[0m\u001b[0;34m[\u001b[0m\u001b[0;34m:\u001b[0m\u001b[0;34m,\u001b[0m\u001b[0;34m:\u001b[0m\u001b[0;36m1400\u001b[0m\u001b[0;34m,\u001b[0m\u001b[0;34m:\u001b[0m\u001b[0;34m]\u001b[0m \u001b[0;34m-\u001b[0m \u001b[0mtriplets\u001b[0m\u001b[0;34m[\u001b[0m\u001b[0;34m:\u001b[0m\u001b[0;34m,\u001b[0m\u001b[0;36m2800\u001b[0m\u001b[0;34m:\u001b[0m\u001b[0;34m,\u001b[0m\u001b[0;34m:\u001b[0m\u001b[0;34m]\u001b[0m\u001b[0;34m,\u001b[0m\u001b[0manchor\u001b[0m \u001b[0;34m-\u001b[0m \u001b[0mneg\u001b[0m\u001b[0;34m,\u001b[0m \u001b[0mnum_classes\u001b[0m\u001b[0;34m,\u001b[0m \u001b[0malpha_value\u001b[0m\u001b[0;34m)\u001b[0m\u001b[0;34m\u001b[0m\u001b[0;34m\u001b[0m\u001b[0m\n\u001b[1;32m     20\u001b[0m \u001b[0;34m\u001b[0m\u001b[0m\n",
      "\u001b[0;32m/tmp/ipykernel_18552/2543538559.py\u001b[0m in \u001b[0;36mloss\u001b[0;34m(feature, labels, num_classes, alpha_value)\u001b[0m\n\u001b[1;32m      1\u001b[0m \u001b[0;32mdef\u001b[0m \u001b[0mloss\u001b[0m\u001b[0;34m(\u001b[0m\u001b[0mfeature\u001b[0m\u001b[0;34m,\u001b[0m \u001b[0mlabels\u001b[0m\u001b[0;34m,\u001b[0m \u001b[0mnum_classes\u001b[0m\u001b[0;34m,\u001b[0m \u001b[0malpha_value\u001b[0m\u001b[0;34m)\u001b[0m\u001b[0;34m:\u001b[0m\u001b[0;34m\u001b[0m\u001b[0;34m\u001b[0m\u001b[0m\n\u001b[0;32m----> 2\u001b[0;31m     feature_distance = (tf.math.add(\n\u001b[0m\u001b[1;32m      3\u001b[0m             \u001b[0mtf\u001b[0m\u001b[0;34m.\u001b[0m\u001b[0mmath\u001b[0m\u001b[0;34m.\u001b[0m\u001b[0mreduce_sum\u001b[0m\u001b[0;34m(\u001b[0m\u001b[0mtf\u001b[0m\u001b[0;34m.\u001b[0m\u001b[0mmath\u001b[0m\u001b[0;34m.\u001b[0m\u001b[0msquare\u001b[0m\u001b[0;34m(\u001b[0m\u001b[0mfeature\u001b[0m\u001b[0;34m)\u001b[0m\u001b[0;34m,\u001b[0m \u001b[0maxis\u001b[0m\u001b[0;34m=\u001b[0m\u001b[0;34m[\u001b[0m\u001b[0;36m1\u001b[0m\u001b[0;34m]\u001b[0m\u001b[0;34m,\u001b[0m \u001b[0mkeepdims\u001b[0m\u001b[0;34m=\u001b[0m\u001b[0;32mTrue\u001b[0m\u001b[0;34m)\u001b[0m\u001b[0;34m,\u001b[0m\u001b[0;34m\u001b[0m\u001b[0;34m\u001b[0m\u001b[0m\n\u001b[1;32m      4\u001b[0m             \u001b[0mtf\u001b[0m\u001b[0;34m.\u001b[0m\u001b[0mmath\u001b[0m\u001b[0;34m.\u001b[0m\u001b[0mreduce_sum\u001b[0m\u001b[0;34m(\u001b[0m\u001b[0mtf\u001b[0m\u001b[0;34m.\u001b[0m\u001b[0mmath\u001b[0m\u001b[0;34m.\u001b[0m\u001b[0msquare\u001b[0m\u001b[0;34m(\u001b[0m\u001b[0mtf\u001b[0m\u001b[0;34m.\u001b[0m\u001b[0mtranspose\u001b[0m\u001b[0;34m(\u001b[0m\u001b[0mfeature\u001b[0m\u001b[0;34m)\u001b[0m\u001b[0;34m)\u001b[0m\u001b[0;34m,\u001b[0m \u001b[0maxis\u001b[0m\u001b[0;34m=\u001b[0m\u001b[0;34m[\u001b[0m\u001b[0;36m0\u001b[0m\u001b[0;34m]\u001b[0m\u001b[0;34m,\u001b[0m \u001b[0mkeepdims\u001b[0m\u001b[0;34m=\u001b[0m\u001b[0;32mTrue\u001b[0m\u001b[0;34m)\u001b[0m\u001b[0;34m,\u001b[0m\u001b[0;34m\u001b[0m\u001b[0;34m\u001b[0m\u001b[0m\n\u001b[1;32m      5\u001b[0m         )\n",
      "\u001b[0;32m~/.local/lib/python3.10/site-packages/tensorflow/python/util/traceback_utils.py\u001b[0m in \u001b[0;36merror_handler\u001b[0;34m(*args, **kwargs)\u001b[0m\n\u001b[1;32m    151\u001b[0m     \u001b[0;32mexcept\u001b[0m \u001b[0mException\u001b[0m \u001b[0;32mas\u001b[0m \u001b[0me\u001b[0m\u001b[0;34m:\u001b[0m\u001b[0;34m\u001b[0m\u001b[0;34m\u001b[0m\u001b[0m\n\u001b[1;32m    152\u001b[0m       \u001b[0mfiltered_tb\u001b[0m \u001b[0;34m=\u001b[0m \u001b[0m_process_traceback_frames\u001b[0m\u001b[0;34m(\u001b[0m\u001b[0me\u001b[0m\u001b[0;34m.\u001b[0m\u001b[0m__traceback__\u001b[0m\u001b[0;34m)\u001b[0m\u001b[0;34m\u001b[0m\u001b[0;34m\u001b[0m\u001b[0m\n\u001b[0;32m--> 153\u001b[0;31m       \u001b[0;32mraise\u001b[0m \u001b[0me\u001b[0m\u001b[0;34m.\u001b[0m\u001b[0mwith_traceback\u001b[0m\u001b[0;34m(\u001b[0m\u001b[0mfiltered_tb\u001b[0m\u001b[0;34m)\u001b[0m \u001b[0;32mfrom\u001b[0m \u001b[0;32mNone\u001b[0m\u001b[0;34m\u001b[0m\u001b[0;34m\u001b[0m\u001b[0m\n\u001b[0m\u001b[1;32m    154\u001b[0m     \u001b[0;32mfinally\u001b[0m\u001b[0;34m:\u001b[0m\u001b[0;34m\u001b[0m\u001b[0;34m\u001b[0m\u001b[0m\n\u001b[1;32m    155\u001b[0m       \u001b[0;32mdel\u001b[0m \u001b[0mfiltered_tb\u001b[0m\u001b[0;34m\u001b[0m\u001b[0;34m\u001b[0m\u001b[0m\n",
      "\u001b[0;32m~/.local/lib/python3.10/site-packages/tensorflow/python/framework/ops.py\u001b[0m in \u001b[0;36mraise_from_not_ok_status\u001b[0;34m(e, name)\u001b[0m\n\u001b[1;32m   7213\u001b[0m \u001b[0;32mdef\u001b[0m \u001b[0mraise_from_not_ok_status\u001b[0m\u001b[0;34m(\u001b[0m\u001b[0me\u001b[0m\u001b[0;34m,\u001b[0m \u001b[0mname\u001b[0m\u001b[0;34m)\u001b[0m\u001b[0;34m:\u001b[0m\u001b[0;34m\u001b[0m\u001b[0;34m\u001b[0m\u001b[0m\n\u001b[1;32m   7214\u001b[0m   \u001b[0me\u001b[0m\u001b[0;34m.\u001b[0m\u001b[0mmessage\u001b[0m \u001b[0;34m+=\u001b[0m \u001b[0;34m(\u001b[0m\u001b[0;34m\" name: \"\u001b[0m \u001b[0;34m+\u001b[0m \u001b[0mname\u001b[0m \u001b[0;32mif\u001b[0m \u001b[0mname\u001b[0m \u001b[0;32mis\u001b[0m \u001b[0;32mnot\u001b[0m \u001b[0;32mNone\u001b[0m \u001b[0;32melse\u001b[0m \u001b[0;34m\"\"\u001b[0m\u001b[0;34m)\u001b[0m\u001b[0;34m\u001b[0m\u001b[0;34m\u001b[0m\u001b[0m\n\u001b[0;32m-> 7215\u001b[0;31m   \u001b[0;32mraise\u001b[0m \u001b[0mcore\u001b[0m\u001b[0;34m.\u001b[0m\u001b[0m_status_to_exception\u001b[0m\u001b[0;34m(\u001b[0m\u001b[0me\u001b[0m\u001b[0;34m)\u001b[0m \u001b[0;32mfrom\u001b[0m \u001b[0;32mNone\u001b[0m  \u001b[0;31m# pylint: disable=protected-access\u001b[0m\u001b[0;34m\u001b[0m\u001b[0;34m\u001b[0m\u001b[0m\n\u001b[0m\u001b[1;32m   7216\u001b[0m \u001b[0;34m\u001b[0m\u001b[0m\n\u001b[1;32m   7217\u001b[0m \u001b[0;34m\u001b[0m\u001b[0m\n",
      "\u001b[0;31mResourceExhaustedError\u001b[0m: {{function_node __wrapped__AddV2_device_/job:localhost/replica:0/task:0/device:GPU:0}} failed to allocate memory [Op:AddV2]"
     ]
    }
   ],
   "source": [
    "list_train_loss, list_val_loss = train(model,X_profiling, Y_profiling, train_dataset, val_dataset, optimizer, epochs = 5)"
   ]
  },
  {
   "cell_type": "code",
   "execution_count": null,
   "metadata": {},
   "outputs": [],
   "source": []
  }
 ],
 "metadata": {
  "colab": {
   "provenance": []
  },
  "kernelspec": {
   "display_name": "Python 3 (ipykernel)",
   "language": "python",
   "name": "python3"
  },
  "language_info": {
   "codemirror_mode": {
    "name": "ipython",
    "version": 3
   },
   "file_extension": ".py",
   "mimetype": "text/x-python",
   "name": "python",
   "nbconvert_exporter": "python",
   "pygments_lexer": "ipython3",
   "version": "3.9.7"
  }
 },
 "nbformat": 4,
 "nbformat_minor": 1
}
